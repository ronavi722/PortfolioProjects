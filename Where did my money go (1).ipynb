{
 "cells": [
  {
   "cell_type": "markdown",
   "id": "4a1a6765",
   "metadata": {},
   "source": [
    "## Importing packages"
   ]
  },
  {
   "cell_type": "code",
   "execution_count": 97,
   "id": "a7447394",
   "metadata": {},
   "outputs": [],
   "source": [
    "#for manuplating dataset\n",
    "import pandas as pd\n",
    "import numpy as np\n",
    "import matplotlib.pylab as plt\n",
    "plt.style.use('seaborn-v0_8-pastel')"
   ]
  },
  {
   "cell_type": "code",
   "execution_count": 56,
   "id": "7c6fbbbe",
   "metadata": {},
   "outputs": [
    {
     "data": {
      "text/html": [
       "<div>\n",
       "<style scoped>\n",
       "    .dataframe tbody tr th:only-of-type {\n",
       "        vertical-align: middle;\n",
       "    }\n",
       "\n",
       "    .dataframe tbody tr th {\n",
       "        vertical-align: top;\n",
       "    }\n",
       "\n",
       "    .dataframe thead th {\n",
       "        text-align: right;\n",
       "    }\n",
       "</style>\n",
       "<table border=\"1\" class=\"dataframe\">\n",
       "  <thead>\n",
       "    <tr style=\"text-align: right;\">\n",
       "      <th></th>\n",
       "      <th>Tran Date</th>\n",
       "      <th>CHQNO</th>\n",
       "      <th>PARTICULARS</th>\n",
       "      <th>Company</th>\n",
       "      <th>DR</th>\n",
       "      <th>BAL</th>\n",
       "      <th>SOL</th>\n",
       "    </tr>\n",
       "  </thead>\n",
       "  <tbody>\n",
       "    <tr>\n",
       "      <th>0</th>\n",
       "      <td>1/2/2023</td>\n",
       "      <td>-</td>\n",
       "      <td>UPI/P2M/300256060950/Airtel Pa/ICICI Ban/UPITran</td>\n",
       "      <td>Airtel</td>\n",
       "      <td>589</td>\n",
       "      <td>29856.91</td>\n",
       "      <td>3131</td>\n",
       "    </tr>\n",
       "    <tr>\n",
       "      <th>1</th>\n",
       "      <td>1/3/2023</td>\n",
       "      <td>-</td>\n",
       "      <td>POS/ZUDIO A UNIT OF T/TRICHY/030123/10:51</td>\n",
       "      <td>Zudio</td>\n",
       "      <td>1196</td>\n",
       "      <td>28660.91</td>\n",
       "      <td>3131</td>\n",
       "    </tr>\n",
       "    <tr>\n",
       "      <th>2</th>\n",
       "      <td>1/4/2023</td>\n",
       "      <td>-</td>\n",
       "      <td>UPI/P2M/337045298142/SUGUMAR M/Yes Bank /Payment</td>\n",
       "      <td>Bakery</td>\n",
       "      <td>50</td>\n",
       "      <td>28610.91</td>\n",
       "      <td>3131</td>\n",
       "    </tr>\n",
       "    <tr>\n",
       "      <th>3</th>\n",
       "      <td>1/5/2023</td>\n",
       "      <td>-</td>\n",
       "      <td>UPI/P2A/337112023980/Mr SASI K/Indian Ba/Payment</td>\n",
       "      <td>Appolo</td>\n",
       "      <td>3000</td>\n",
       "      <td>25510.91</td>\n",
       "      <td>3131</td>\n",
       "    </tr>\n",
       "    <tr>\n",
       "      <th>4</th>\n",
       "      <td>1/23/2023</td>\n",
       "      <td>-</td>\n",
       "      <td>POS/LIFE STYLE/CHENGALPATTU/230123/15:05</td>\n",
       "      <td>Trends</td>\n",
       "      <td>901</td>\n",
       "      <td>14546.05</td>\n",
       "      <td>3131</td>\n",
       "    </tr>\n",
       "    <tr>\n",
       "      <th>5</th>\n",
       "      <td>1/28/2023</td>\n",
       "      <td>-</td>\n",
       "      <td>UPI/P2M/302873527139/IRCTC Web/Paytm Pay/Payment</td>\n",
       "      <td>IRCTC</td>\n",
       "      <td>722</td>\n",
       "      <td>8824.25</td>\n",
       "      <td>3131</td>\n",
       "    </tr>\n",
       "    <tr>\n",
       "      <th>6</th>\n",
       "      <td>1/29/2023</td>\n",
       "      <td>-</td>\n",
       "      <td>UPI/P2M/302912127729/Jio Mobil/Yes Bank /JIO20BR</td>\n",
       "      <td>Jio</td>\n",
       "      <td>61</td>\n",
       "      <td>8763.25</td>\n",
       "      <td>3131</td>\n",
       "    </tr>\n",
       "    <tr>\n",
       "      <th>7</th>\n",
       "      <td>1/30/2023</td>\n",
       "      <td>-</td>\n",
       "      <td>UPI/P2M/303012403332/Airtel Pa/ICICI Ban/UPITran</td>\n",
       "      <td>Airtel</td>\n",
       "      <td>707</td>\n",
       "      <td>8056.43</td>\n",
       "      <td>3131</td>\n",
       "    </tr>\n",
       "    <tr>\n",
       "      <th>8</th>\n",
       "      <td>2/3/2023</td>\n",
       "      <td>-</td>\n",
       "      <td>POS/GAERANS ENTERPRIS/KANCHIPURAM/030223/18:21</td>\n",
       "      <td>Trends</td>\n",
       "      <td>1199</td>\n",
       "      <td>20078.43</td>\n",
       "      <td>3131</td>\n",
       "    </tr>\n",
       "    <tr>\n",
       "      <th>9</th>\n",
       "      <td>2/4/2023</td>\n",
       "      <td>-</td>\n",
       "      <td>UPI/P2A/303556157191/Saravanan/Bank of B/UPI</td>\n",
       "      <td>Saravana Bavan</td>\n",
       "      <td>100</td>\n",
       "      <td>19978.43</td>\n",
       "      <td>3131</td>\n",
       "    </tr>\n",
       "  </tbody>\n",
       "</table>\n",
       "</div>"
      ],
      "text/plain": [
       "   Tran Date CHQNO                                       PARTICULARS  \\\n",
       "0   1/2/2023     -  UPI/P2M/300256060950/Airtel Pa/ICICI Ban/UPITran   \n",
       "1   1/3/2023     -         POS/ZUDIO A UNIT OF T/TRICHY/030123/10:51   \n",
       "2   1/4/2023     -  UPI/P2M/337045298142/SUGUMAR M/Yes Bank /Payment   \n",
       "3   1/5/2023     -  UPI/P2A/337112023980/Mr SASI K/Indian Ba/Payment   \n",
       "4  1/23/2023     -          POS/LIFE STYLE/CHENGALPATTU/230123/15:05   \n",
       "5  1/28/2023     -  UPI/P2M/302873527139/IRCTC Web/Paytm Pay/Payment   \n",
       "6  1/29/2023     -  UPI/P2M/302912127729/Jio Mobil/Yes Bank /JIO20BR   \n",
       "7  1/30/2023     -  UPI/P2M/303012403332/Airtel Pa/ICICI Ban/UPITran   \n",
       "8   2/3/2023     -    POS/GAERANS ENTERPRIS/KANCHIPURAM/030223/18:21   \n",
       "9   2/4/2023     -      UPI/P2A/303556157191/Saravanan/Bank of B/UPI   \n",
       "\n",
       "          Company    DR       BAL   SOL  \n",
       "0          Airtel   589  29856.91  3131  \n",
       "1           Zudio  1196  28660.91  3131  \n",
       "2          Bakery    50  28610.91  3131  \n",
       "3          Appolo  3000  25510.91  3131  \n",
       "4          Trends   901  14546.05  3131  \n",
       "5           IRCTC   722   8824.25  3131  \n",
       "6             Jio    61   8763.25  3131  \n",
       "7          Airtel   707   8056.43  3131  \n",
       "8          Trends  1199  20078.43  3131  \n",
       "9  Saravana Bavan   100  19978.43  3131  "
      ]
     },
     "execution_count": 56,
     "metadata": {},
     "output_type": "execute_result"
    }
   ],
   "source": [
    "df = pd.read_csv(r\"C:\\Users\\muthu\\OneDrive\\Desktop\\DataAnalysis\\2023_Spent.csv\")\n",
    "df.head(10)"
   ]
  },
  {
   "cell_type": "markdown",
   "id": "11ff5ea1",
   "metadata": {},
   "source": [
    "## Data cleaning"
   ]
  },
  {
   "cell_type": "code",
   "execution_count": 57,
   "id": "0d3d13e4",
   "metadata": {},
   "outputs": [
    {
     "data": {
      "text/plain": [
       "Tran Date       object\n",
       "CHQNO           object\n",
       "PARTICULARS     object\n",
       "Company         object\n",
       "DR               int64\n",
       "BAL            float64\n",
       "SOL              int64\n",
       "dtype: object"
      ]
     },
     "execution_count": 57,
     "metadata": {},
     "output_type": "execute_result"
    }
   ],
   "source": [
    "df.dtypes"
   ]
  },
  {
   "cell_type": "code",
   "execution_count": 58,
   "id": "2be19d4e",
   "metadata": {},
   "outputs": [
    {
     "data": {
      "text/html": [
       "<div>\n",
       "<style scoped>\n",
       "    .dataframe tbody tr th:only-of-type {\n",
       "        vertical-align: middle;\n",
       "    }\n",
       "\n",
       "    .dataframe tbody tr th {\n",
       "        vertical-align: top;\n",
       "    }\n",
       "\n",
       "    .dataframe thead th {\n",
       "        text-align: right;\n",
       "    }\n",
       "</style>\n",
       "<table border=\"1\" class=\"dataframe\">\n",
       "  <thead>\n",
       "    <tr style=\"text-align: right;\">\n",
       "      <th></th>\n",
       "      <th>Tran Date</th>\n",
       "      <th>Company</th>\n",
       "      <th>DR</th>\n",
       "    </tr>\n",
       "  </thead>\n",
       "  <tbody>\n",
       "    <tr>\n",
       "      <th>0</th>\n",
       "      <td>1/2/2023</td>\n",
       "      <td>Airtel</td>\n",
       "      <td>589</td>\n",
       "    </tr>\n",
       "    <tr>\n",
       "      <th>1</th>\n",
       "      <td>1/3/2023</td>\n",
       "      <td>Zudio</td>\n",
       "      <td>1196</td>\n",
       "    </tr>\n",
       "    <tr>\n",
       "      <th>2</th>\n",
       "      <td>1/4/2023</td>\n",
       "      <td>Bakery</td>\n",
       "      <td>50</td>\n",
       "    </tr>\n",
       "    <tr>\n",
       "      <th>3</th>\n",
       "      <td>1/5/2023</td>\n",
       "      <td>Appolo</td>\n",
       "      <td>3000</td>\n",
       "    </tr>\n",
       "    <tr>\n",
       "      <th>4</th>\n",
       "      <td>1/23/2023</td>\n",
       "      <td>Trends</td>\n",
       "      <td>901</td>\n",
       "    </tr>\n",
       "    <tr>\n",
       "      <th>5</th>\n",
       "      <td>1/28/2023</td>\n",
       "      <td>IRCTC</td>\n",
       "      <td>722</td>\n",
       "    </tr>\n",
       "    <tr>\n",
       "      <th>6</th>\n",
       "      <td>1/29/2023</td>\n",
       "      <td>Jio</td>\n",
       "      <td>61</td>\n",
       "    </tr>\n",
       "    <tr>\n",
       "      <th>7</th>\n",
       "      <td>1/30/2023</td>\n",
       "      <td>Airtel</td>\n",
       "      <td>707</td>\n",
       "    </tr>\n",
       "    <tr>\n",
       "      <th>8</th>\n",
       "      <td>2/3/2023</td>\n",
       "      <td>Trends</td>\n",
       "      <td>1199</td>\n",
       "    </tr>\n",
       "    <tr>\n",
       "      <th>9</th>\n",
       "      <td>2/4/2023</td>\n",
       "      <td>Saravana Bavan</td>\n",
       "      <td>100</td>\n",
       "    </tr>\n",
       "  </tbody>\n",
       "</table>\n",
       "</div>"
      ],
      "text/plain": [
       "   Tran Date         Company    DR\n",
       "0   1/2/2023          Airtel   589\n",
       "1   1/3/2023           Zudio  1196\n",
       "2   1/4/2023          Bakery    50\n",
       "3   1/5/2023          Appolo  3000\n",
       "4  1/23/2023          Trends   901\n",
       "5  1/28/2023           IRCTC   722\n",
       "6  1/29/2023             Jio    61\n",
       "7  1/30/2023          Airtel   707\n",
       "8   2/3/2023          Trends  1199\n",
       "9   2/4/2023  Saravana Bavan   100"
      ]
     },
     "execution_count": 58,
     "metadata": {},
     "output_type": "execute_result"
    }
   ],
   "source": [
    "#deleting unwanted columns\n",
    "df.drop(columns=['CHQNO','PARTICULARS','SOL','BAL'],inplace=True)\n",
    "df.head(10)"
   ]
  },
  {
   "cell_type": "code",
   "execution_count": 59,
   "id": "fb2b592a",
   "metadata": {},
   "outputs": [],
   "source": [
    "#renaming the columns\n",
    "df.rename(columns={'Tran Date':'Date','DR':'Debit'},inplace=True)\n",
    "\n",
    "#adding category column \n",
    "df['Category']='Na'"
   ]
  },
  {
   "cell_type": "code",
   "execution_count": 60,
   "id": "1d0730b2",
   "metadata": {},
   "outputs": [],
   "source": [
    "# available category\n",
    "    # Rent\n",
    "    # Grocery\n",
    "    # Entertainment\n",
    "    # Restaurant\n",
    "    # Recharge\n",
    "    # Ticket\n",
    "    # Cosmetics\n",
    "    # Shopping\n",
    "    # Gift\n",
    "    # investment\n",
    "    #Salary"
   ]
  },
  {
   "cell_type": "code",
   "execution_count": 61,
   "id": "8a514b55",
   "metadata": {},
   "outputs": [],
   "source": [
    "#Assign transactions to the correct category\n",
    "df['Category'] = np.where(df['Company'].str.contains('Gpay|Phonepey|Axis'), 'Rent', df['Category'])\n",
    "df['Category'] = np.where(df['Company'].str.contains('Bakery|Company|Reliance'), 'Grocery', df['Category'])\n",
    "df['Category'] = np.where(df['Company'].str.contains('PVR|Sun Direct'), 'Entertainment', df['Category'])\n",
    "df['Category'] = np.where(df['Company'].str.contains(\n",
    "    'banaleaf|Copper Kitchen|Engineers Eatery|Ganapathy|Infosys|Kanchi daba|KFC|KMS|Muniandi vilas|Oven story|Ramanas|Red Box|Saravana Bavan|thahira|Roshan'), 'Restaurant', df['Category'])\n",
    "df['Category'] = np.where(df['Company'].str.contains('Airtel|Jio|BSNL'), 'Recharge', df['Category'])\n",
    "df['Category'] = np.where(df['Company'].str.contains('IRCTC|RedBus|SETC'), 'Ticket', df['Category'])\n",
    "df['Category'] = np.where(df['Company'].str.contains('Appolo|Manmatter|KED'), 'Cosmetics', df['Category'])\n",
    "df['Category'] = np.where(df['Company'].str.contains('Amazon|Lalitha Jwellery|Gas|Trends|Vendor|Zudio|Phone'), 'Shopping', df['Category'])\n",
    "df['Category'] = np.where(df['Company'].str.contains('BabyHug'), 'Gift', df['Category'])\n",
    "df['Category'] = np.where(df['Company'].str.contains('Grow|Udemy'), 'Investment', df['Category'])"
   ]
  },
  {
   "cell_type": "code",
   "execution_count": 62,
   "id": "6368873d",
   "metadata": {},
   "outputs": [
    {
     "data": {
      "text/html": [
       "<div>\n",
       "<style scoped>\n",
       "    .dataframe tbody tr th:only-of-type {\n",
       "        vertical-align: middle;\n",
       "    }\n",
       "\n",
       "    .dataframe tbody tr th {\n",
       "        vertical-align: top;\n",
       "    }\n",
       "\n",
       "    .dataframe thead th {\n",
       "        text-align: right;\n",
       "    }\n",
       "</style>\n",
       "<table border=\"1\" class=\"dataframe\">\n",
       "  <thead>\n",
       "    <tr style=\"text-align: right;\">\n",
       "      <th></th>\n",
       "      <th>Date</th>\n",
       "      <th>Company</th>\n",
       "      <th>Debit</th>\n",
       "      <th>Category</th>\n",
       "      <th>Month</th>\n",
       "      <th>Year</th>\n",
       "    </tr>\n",
       "  </thead>\n",
       "  <tbody>\n",
       "    <tr>\n",
       "      <th>0</th>\n",
       "      <td>2023-01-02</td>\n",
       "      <td>Airtel</td>\n",
       "      <td>589</td>\n",
       "      <td>Recharge</td>\n",
       "      <td>1</td>\n",
       "      <td>2023</td>\n",
       "    </tr>\n",
       "    <tr>\n",
       "      <th>1</th>\n",
       "      <td>2023-01-03</td>\n",
       "      <td>Zudio</td>\n",
       "      <td>1196</td>\n",
       "      <td>Shopping</td>\n",
       "      <td>1</td>\n",
       "      <td>2023</td>\n",
       "    </tr>\n",
       "    <tr>\n",
       "      <th>2</th>\n",
       "      <td>2023-01-04</td>\n",
       "      <td>Bakery</td>\n",
       "      <td>50</td>\n",
       "      <td>Grocery</td>\n",
       "      <td>1</td>\n",
       "      <td>2023</td>\n",
       "    </tr>\n",
       "    <tr>\n",
       "      <th>3</th>\n",
       "      <td>2023-01-05</td>\n",
       "      <td>Appolo</td>\n",
       "      <td>3000</td>\n",
       "      <td>Cosmetics</td>\n",
       "      <td>1</td>\n",
       "      <td>2023</td>\n",
       "    </tr>\n",
       "    <tr>\n",
       "      <th>4</th>\n",
       "      <td>2023-01-23</td>\n",
       "      <td>Trends</td>\n",
       "      <td>901</td>\n",
       "      <td>Shopping</td>\n",
       "      <td>1</td>\n",
       "      <td>2023</td>\n",
       "    </tr>\n",
       "    <tr>\n",
       "      <th>5</th>\n",
       "      <td>2023-01-28</td>\n",
       "      <td>IRCTC</td>\n",
       "      <td>722</td>\n",
       "      <td>Ticket</td>\n",
       "      <td>1</td>\n",
       "      <td>2023</td>\n",
       "    </tr>\n",
       "    <tr>\n",
       "      <th>6</th>\n",
       "      <td>2023-01-29</td>\n",
       "      <td>Jio</td>\n",
       "      <td>61</td>\n",
       "      <td>Recharge</td>\n",
       "      <td>1</td>\n",
       "      <td>2023</td>\n",
       "    </tr>\n",
       "    <tr>\n",
       "      <th>7</th>\n",
       "      <td>2023-01-30</td>\n",
       "      <td>Airtel</td>\n",
       "      <td>707</td>\n",
       "      <td>Recharge</td>\n",
       "      <td>1</td>\n",
       "      <td>2023</td>\n",
       "    </tr>\n",
       "    <tr>\n",
       "      <th>8</th>\n",
       "      <td>2023-02-03</td>\n",
       "      <td>Trends</td>\n",
       "      <td>1199</td>\n",
       "      <td>Shopping</td>\n",
       "      <td>2</td>\n",
       "      <td>2023</td>\n",
       "    </tr>\n",
       "    <tr>\n",
       "      <th>9</th>\n",
       "      <td>2023-02-04</td>\n",
       "      <td>Saravana Bavan</td>\n",
       "      <td>100</td>\n",
       "      <td>Restaurant</td>\n",
       "      <td>2</td>\n",
       "      <td>2023</td>\n",
       "    </tr>\n",
       "  </tbody>\n",
       "</table>\n",
       "</div>"
      ],
      "text/plain": [
       "        Date         Company  Debit    Category  Month  Year\n",
       "0 2023-01-02          Airtel    589    Recharge      1  2023\n",
       "1 2023-01-03           Zudio   1196    Shopping      1  2023\n",
       "2 2023-01-04          Bakery     50     Grocery      1  2023\n",
       "3 2023-01-05          Appolo   3000   Cosmetics      1  2023\n",
       "4 2023-01-23          Trends    901    Shopping      1  2023\n",
       "5 2023-01-28           IRCTC    722      Ticket      1  2023\n",
       "6 2023-01-29             Jio     61    Recharge      1  2023\n",
       "7 2023-01-30          Airtel    707    Recharge      1  2023\n",
       "8 2023-02-03          Trends   1199    Shopping      2  2023\n",
       "9 2023-02-04  Saravana Bavan    100  Restaurant      2  2023"
      ]
     },
     "execution_count": 62,
     "metadata": {},
     "output_type": "execute_result"
    }
   ],
   "source": [
    "#converting the date column to date-time and extracting month , year from date column\n",
    "df['Date'] = pd.to_datetime(df['Date'])\n",
    "df['Month'] = df['Date'].dt.month\n",
    "df['Year'] = df['Date'].dt.year\n",
    "\n",
    "pd.options.display.max_rows= 900\n",
    "df.head(10)"
   ]
  },
  {
   "cell_type": "markdown",
   "id": "4eebb32c",
   "metadata": {},
   "source": [
    "## EDA"
   ]
  },
  {
   "cell_type": "code",
   "execution_count": 115,
   "id": "814e2c9a",
   "metadata": {},
   "outputs": [
    {
     "data": {
      "image/png": "[encoded data removed]",
      "text/plain": [
       "<Figure size 640x480 with 1 Axes>"
      ]
     },
     "metadata": {},
     "output_type": "display_data"
    }
   ],
   "source": [
    "category_spent_tot = df.groupby('Category')['Debit'].sum().reset_index()\n",
    "category_spent_tot = category_spent_tot.sort_values(by='Debit',ascending=False)\n",
    "category_spent_tot.plot.bar(x='Category',y='Debit',rot=90,color='tomato')\n",
    "plt.show()"
   ]
  },
  {
   "cell_type": "code",
   "execution_count": 114,
   "id": "2f223193",
   "metadata": {},
   "outputs": [
    {
     "data": {
      "image/png": "[encoded data removed]",
      "text/plain": [
       "<Figure size 640x480 with 1 Axes>"
      ]
     },
     "metadata": {},
     "output_type": "display_data"
    }
   ],
   "source": [
    "#top 10 company most spent\n",
    "company_spent_tot = df.groupby('Company')['Debit'].sum().reset_index()\n",
    "company_spent_tot = company_spent_tot.sort_values(by='Debit',ascending=False)\n",
    "top_10 = company_spent_tot.head(10)\n",
    "top_10.plot.bar(x='Company',y='Debit',rot=90,color='tomato')\n",
    "plt.show()"
   ]
  },
  {
   "cell_type": "code",
   "execution_count": 113,
   "id": "3cca1e42",
   "metadata": {},
   "outputs": [
    {
     "data": {
      "image/png": "[encoded data removed]",
      "text/plain": [
       "<Figure size 640x480 with 1 Axes>"
      ]
     },
     "metadata": {},
     "output_type": "display_data"
    }
   ],
   "source": [
    "#month wise spends\n",
    "monthly_spent = df.groupby('Month')['Debit'].sum().reset_index()\n",
    "monthly_spent.plot.bar(x='Month',y='Debit',title=\"Month wise spends\",color='tomato')\n",
    "plt.show()"
   ]
  },
  {
   "cell_type": "markdown",
   "id": "a7d3ef78",
   "metadata": {},
   "source": [
    "Total monthly spending experienced a notable increase in June, marked by significant ups and downs in the second half of the year.The cause for the peak in June remains unknown, prompting the need to investigate and identify the factors contributing to this spike. Additionally, there is a consistent pattern of higher spending over the last 6 months compared to the first, warranting further analysis to understand the reasons behind this sustained increase"
   ]
  },
  {
   "cell_type": "code",
   "execution_count": 66,
   "id": "5ef53660",
   "metadata": {},
   "outputs": [
    {
     "data": {
      "text/html": [
       "<div>\n",
       "<style scoped>\n",
       "    .dataframe tbody tr th:only-of-type {\n",
       "        vertical-align: middle;\n",
       "    }\n",
       "\n",
       "    .dataframe tbody tr th {\n",
       "        vertical-align: top;\n",
       "    }\n",
       "\n",
       "    .dataframe thead th {\n",
       "        text-align: right;\n",
       "    }\n",
       "</style>\n",
       "<table border=\"1\" class=\"dataframe\">\n",
       "  <thead>\n",
       "    <tr style=\"text-align: right;\">\n",
       "      <th></th>\n",
       "      <th>Month</th>\n",
       "      <th>Debit</th>\n",
       "      <th>previous_month_cost</th>\n",
       "      <th>percentage_change</th>\n",
       "    </tr>\n",
       "  </thead>\n",
       "  <tbody>\n",
       "    <tr>\n",
       "      <th>0</th>\n",
       "      <td>1</td>\n",
       "      <td>7226</td>\n",
       "      <td>NaN</td>\n",
       "      <td>NaN</td>\n",
       "    </tr>\n",
       "    <tr>\n",
       "      <th>1</th>\n",
       "      <td>2</td>\n",
       "      <td>14131</td>\n",
       "      <td>7226.0</td>\n",
       "      <td>95.557708</td>\n",
       "    </tr>\n",
       "    <tr>\n",
       "      <th>2</th>\n",
       "      <td>3</td>\n",
       "      <td>14666</td>\n",
       "      <td>14131.0</td>\n",
       "      <td>3.786002</td>\n",
       "    </tr>\n",
       "    <tr>\n",
       "      <th>3</th>\n",
       "      <td>4</td>\n",
       "      <td>18063</td>\n",
       "      <td>14666.0</td>\n",
       "      <td>23.162416</td>\n",
       "    </tr>\n",
       "    <tr>\n",
       "      <th>4</th>\n",
       "      <td>5</td>\n",
       "      <td>28479</td>\n",
       "      <td>18063.0</td>\n",
       "      <td>57.664840</td>\n",
       "    </tr>\n",
       "    <tr>\n",
       "      <th>5</th>\n",
       "      <td>6</td>\n",
       "      <td>227230</td>\n",
       "      <td>28479.0</td>\n",
       "      <td>697.886162</td>\n",
       "    </tr>\n",
       "    <tr>\n",
       "      <th>6</th>\n",
       "      <td>7</td>\n",
       "      <td>103310</td>\n",
       "      <td>227230.0</td>\n",
       "      <td>-54.535053</td>\n",
       "    </tr>\n",
       "    <tr>\n",
       "      <th>7</th>\n",
       "      <td>8</td>\n",
       "      <td>120328</td>\n",
       "      <td>103310.0</td>\n",
       "      <td>16.472752</td>\n",
       "    </tr>\n",
       "    <tr>\n",
       "      <th>8</th>\n",
       "      <td>9</td>\n",
       "      <td>133438</td>\n",
       "      <td>120328.0</td>\n",
       "      <td>10.895220</td>\n",
       "    </tr>\n",
       "    <tr>\n",
       "      <th>9</th>\n",
       "      <td>10</td>\n",
       "      <td>102860</td>\n",
       "      <td>133438.0</td>\n",
       "      <td>-22.915511</td>\n",
       "    </tr>\n",
       "    <tr>\n",
       "      <th>10</th>\n",
       "      <td>11</td>\n",
       "      <td>51518</td>\n",
       "      <td>102860.0</td>\n",
       "      <td>-49.914447</td>\n",
       "    </tr>\n",
       "    <tr>\n",
       "      <th>11</th>\n",
       "      <td>12</td>\n",
       "      <td>63904</td>\n",
       "      <td>51518.0</td>\n",
       "      <td>24.042082</td>\n",
       "    </tr>\n",
       "  </tbody>\n",
       "</table>\n",
       "</div>"
      ],
      "text/plain": [
       "    Month   Debit  previous_month_cost  percentage_change\n",
       "0       1    7226                  NaN                NaN\n",
       "1       2   14131               7226.0          95.557708\n",
       "2       3   14666              14131.0           3.786002\n",
       "3       4   18063              14666.0          23.162416\n",
       "4       5   28479              18063.0          57.664840\n",
       "5       6  227230              28479.0         697.886162\n",
       "6       7  103310             227230.0         -54.535053\n",
       "7       8  120328             103310.0          16.472752\n",
       "8       9  133438             120328.0          10.895220\n",
       "9      10  102860             133438.0         -22.915511\n",
       "10     11   51518             102860.0         -49.914447\n",
       "11     12   63904              51518.0          24.042082"
      ]
     },
     "execution_count": 66,
     "metadata": {},
     "output_type": "execute_result"
    }
   ],
   "source": [
    "#perecentage change in total spent for each month\n",
    "monthly_spent['previous_month_cost'] = monthly_spent['Debit'].shift()\n",
    "monthly_spent['percentage_change'] = ((monthly_spent['Debit'] - monthly_spent['previous_month_cost']) \n",
    "                                      / monthly_spent['previous_month_cost']) * 100\n",
    "monthly_spent"
   ]
  },
  {
   "cell_type": "code",
   "execution_count": 67,
   "id": "d6eac6bb",
   "metadata": {},
   "outputs": [],
   "source": [
    "june_month_expenses = df[(df['Month'] == 6)]"
   ]
  },
  {
   "cell_type": "code",
   "execution_count": 68,
   "id": "5e5b73d4",
   "metadata": {},
   "outputs": [
    {
     "data": {
      "text/html": [
       "<div>\n",
       "<style scoped>\n",
       "    .dataframe tbody tr th:only-of-type {\n",
       "        vertical-align: middle;\n",
       "    }\n",
       "\n",
       "    .dataframe tbody tr th {\n",
       "        vertical-align: top;\n",
       "    }\n",
       "\n",
       "    .dataframe thead th {\n",
       "        text-align: right;\n",
       "    }\n",
       "</style>\n",
       "<table border=\"1\" class=\"dataframe\">\n",
       "  <thead>\n",
       "    <tr style=\"text-align: right;\">\n",
       "      <th></th>\n",
       "      <th>Category</th>\n",
       "      <th>Debit</th>\n",
       "    </tr>\n",
       "  </thead>\n",
       "  <tbody>\n",
       "    <tr>\n",
       "      <th>5</th>\n",
       "      <td>Shopping</td>\n",
       "      <td>191000</td>\n",
       "    </tr>\n",
       "    <tr>\n",
       "      <th>1</th>\n",
       "      <td>Investment</td>\n",
       "      <td>20000</td>\n",
       "    </tr>\n",
       "    <tr>\n",
       "      <th>3</th>\n",
       "      <td>Rent</td>\n",
       "      <td>7700</td>\n",
       "    </tr>\n",
       "    <tr>\n",
       "      <th>0</th>\n",
       "      <td>Grocery</td>\n",
       "      <td>5710</td>\n",
       "    </tr>\n",
       "    <tr>\n",
       "      <th>2</th>\n",
       "      <td>Recharge</td>\n",
       "      <td>1511</td>\n",
       "    </tr>\n",
       "    <tr>\n",
       "      <th>4</th>\n",
       "      <td>Restaurant</td>\n",
       "      <td>942</td>\n",
       "    </tr>\n",
       "    <tr>\n",
       "      <th>6</th>\n",
       "      <td>Ticket</td>\n",
       "      <td>367</td>\n",
       "    </tr>\n",
       "  </tbody>\n",
       "</table>\n",
       "</div>"
      ],
      "text/plain": [
       "     Category   Debit\n",
       "5    Shopping  191000\n",
       "1  Investment   20000\n",
       "3        Rent    7700\n",
       "0     Grocery    5710\n",
       "2    Recharge    1511\n",
       "4  Restaurant     942\n",
       "6      Ticket     367"
      ]
     },
     "execution_count": 68,
     "metadata": {},
     "output_type": "execute_result"
    }
   ],
   "source": [
    "june_month_expenses = june_month_expenses.groupby('Category')['Debit'].sum().reset_index()\n",
    "june_month_expenses = june_month_expenses.sort_values(by = 'Debit',ascending=False)\n",
    "june_month_expenses"
   ]
  },
  {
   "cell_type": "code",
   "execution_count": 71,
   "id": "8392cfd4",
   "metadata": {
    "scrolled": false
   },
   "outputs": [
    {
     "data": {
      "text/html": [
       "<div>\n",
       "<style scoped>\n",
       "    .dataframe tbody tr th:only-of-type {\n",
       "        vertical-align: middle;\n",
       "    }\n",
       "\n",
       "    .dataframe tbody tr th {\n",
       "        vertical-align: top;\n",
       "    }\n",
       "\n",
       "    .dataframe thead th {\n",
       "        text-align: right;\n",
       "    }\n",
       "</style>\n",
       "<table border=\"1\" class=\"dataframe\">\n",
       "  <thead>\n",
       "    <tr style=\"text-align: right;\">\n",
       "      <th></th>\n",
       "      <th>Category</th>\n",
       "      <th>Company</th>\n",
       "      <th>Debit</th>\n",
       "    </tr>\n",
       "  </thead>\n",
       "  <tbody>\n",
       "    <tr>\n",
       "      <th>7</th>\n",
       "      <td>Shopping</td>\n",
       "      <td>Lalitha Jwellery</td>\n",
       "      <td>170000</td>\n",
       "    </tr>\n",
       "    <tr>\n",
       "      <th>8</th>\n",
       "      <td>Shopping</td>\n",
       "      <td>Phone</td>\n",
       "      <td>21000</td>\n",
       "    </tr>\n",
       "    <tr>\n",
       "      <th>1</th>\n",
       "      <td>Investment</td>\n",
       "      <td>Grow</td>\n",
       "      <td>20000</td>\n",
       "    </tr>\n",
       "    <tr>\n",
       "      <th>4</th>\n",
       "      <td>Rent</td>\n",
       "      <td>Gpay</td>\n",
       "      <td>7700</td>\n",
       "    </tr>\n",
       "    <tr>\n",
       "      <th>0</th>\n",
       "      <td>Grocery</td>\n",
       "      <td>Reliance</td>\n",
       "      <td>5710</td>\n",
       "    </tr>\n",
       "    <tr>\n",
       "      <th>2</th>\n",
       "      <td>Recharge</td>\n",
       "      <td>BSNL</td>\n",
       "      <td>830</td>\n",
       "    </tr>\n",
       "    <tr>\n",
       "      <th>3</th>\n",
       "      <td>Recharge</td>\n",
       "      <td>Jio</td>\n",
       "      <td>681</td>\n",
       "    </tr>\n",
       "    <tr>\n",
       "      <th>5</th>\n",
       "      <td>Restaurant</td>\n",
       "      <td>Infosys</td>\n",
       "      <td>610</td>\n",
       "    </tr>\n",
       "    <tr>\n",
       "      <th>9</th>\n",
       "      <td>Ticket</td>\n",
       "      <td>IRCTC</td>\n",
       "      <td>367</td>\n",
       "    </tr>\n",
       "    <tr>\n",
       "      <th>6</th>\n",
       "      <td>Restaurant</td>\n",
       "      <td>Ramanas</td>\n",
       "      <td>332</td>\n",
       "    </tr>\n",
       "  </tbody>\n",
       "</table>\n",
       "</div>"
      ],
      "text/plain": [
       "     Category           Company   Debit\n",
       "7    Shopping  Lalitha Jwellery  170000\n",
       "8    Shopping            Phone    21000\n",
       "1  Investment              Grow   20000\n",
       "4        Rent              Gpay    7700\n",
       "0     Grocery         Reliance     5710\n",
       "2    Recharge              BSNL     830\n",
       "3    Recharge               Jio     681\n",
       "5  Restaurant           Infosys     610\n",
       "9      Ticket             IRCTC     367\n",
       "6  Restaurant           Ramanas     332"
      ]
     },
     "execution_count": 71,
     "metadata": {},
     "output_type": "execute_result"
    }
   ],
   "source": [
    "#highest spent company in june in each Category\n",
    "june_month = df[(df['Month'] == 6)]\n",
    "hig_cmpny = june_month.groupby(['Category','Company'])['Debit'].sum().reset_index()\n",
    "hig_cmpny.sort_values(by='Debit',ascending=False)"
   ]
  },
  {
   "cell_type": "markdown",
   "id": "6be3d19d",
   "metadata": {},
   "source": [
    "The primary significant reason for the spike in June appears to be a substantial increase in spending on shopping , particularly with consistent monthly expenditures on Lalitha Jewelry from June onward and a purchace of a new mobile phone. This ongoing spending in the shopping category, specifically on Lalitha Jewelry, has contributed to the higher overall spending in the latter part of the year."
   ]
  },
  {
   "cell_type": "code",
   "execution_count": 28,
   "id": "e6cbf301",
   "metadata": {
    "scrolled": true
   },
   "outputs": [
    {
     "data": {
      "text/plain": [
       "Category    Company         \n",
       "Restaurant  Infosys             141\n",
       "            Ramanas               9\n",
       "            Muniandi vilas        8\n",
       "            Kanchi daba           5\n",
       "            Red Box               5\n",
       "            Engineers Eatery      4\n",
       "            Ganapathy             4\n",
       "            thahira               4\n",
       "            KFC                   2\n",
       "            Saravana Bavan        2\n",
       "            Copper Kitchen        1\n",
       "            KMS                   1\n",
       "            Oven story            1\n",
       "            Roshan                1\n",
       "            banaleaf              1\n",
       "Name: Date, dtype: int64"
      ]
     },
     "execution_count": 28,
     "metadata": {},
     "output_type": "execute_result"
    }
   ],
   "source": [
    "#Count of days for each restraunt\n",
    "restraunt_df = df[(df['Category']=='Restaurant')]\n",
    "restraunt_day = restraunt_df.groupby(['Category','Company'])['Date'].count().sort_values(ascending = False)\n",
    "restraunt_day"
   ]
  },
  {
   "cell_type": "code",
   "execution_count": 110,
   "id": "a2f10879",
   "metadata": {},
   "outputs": [
    {
     "data": {
      "image/png": "[encoded data removed]",
      "text/plain": [
       "<Figure size 640x480 with 1 Axes>"
      ]
     },
     "metadata": {},
     "output_type": "display_data"
    }
   ],
   "source": [
    "infy = df[(df['Company'] == 'Infosys')]\n",
    "infy_trend = infy.groupby(['Month'])['Debit'].sum().reset_index()\n",
    "infy_trend.plot.line(x='Month',y='Debit',title='Office food court trends',color='tomato')\n",
    "plt.show()"
   ]
  },
  {
   "cell_type": "markdown",
   "id": "f5fc853e",
   "metadata": {},
   "source": [
    "The return to the office for three days a week was mandated at the beginning of April, leading to the initiation of office food court usage from April onwards. There was an increase observed from April to May, reflecting a transition to a full-week office working culture in May. The fluctuations in usage correspond to the months where i opted to bring home-cooked food to the office, resulting in both peaks and dips in food court utilization during those periods."
   ]
  },
  {
   "cell_type": "code",
   "execution_count": 39,
   "id": "ee1ee607",
   "metadata": {
    "scrolled": true
   },
   "outputs": [
    {
     "data": {
      "text/plain": [
       "115.31216931216932"
      ]
     },
     "execution_count": 39,
     "metadata": {},
     "output_type": "execute_result"
    }
   ],
   "source": [
    "#average amount spent per day in restraunt\n",
    "total_restraunt_days = restraunt_df['Date'].count()\n",
    "total_spent = restraunt_df['Debit'].sum()\n",
    "perDay_average_spent = total_spent / total_restraunt_days\n",
    "perDay_average_spent"
   ]
  },
  {
   "cell_type": "code",
   "execution_count": 116,
   "id": "cd0b50f0",
   "metadata": {},
   "outputs": [
    {
     "data": {
      "image/png": "[encoded data removed]",
      "text/plain": [
       "<Figure size 640x480 with 1 Axes>"
      ]
     },
     "metadata": {},
     "output_type": "display_data"
    }
   ],
   "source": [
    "#month wise spends on grossery \n",
    "grocery_monthly_df = df[df['Category']=='Grocery']\n",
    "grocery_monthly_spent = grocery_monthly_df.groupby('Month')['Debit'].sum().reset_index()\n",
    "grocery_monthly_spent.plot.bar(x='Month',y='Debit',title=\"Grocery Monthly  spends\",color='tomato')\n",
    "plt.show()"
   ]
  },
  {
   "cell_type": "markdown",
   "id": "cfd58ee0",
   "metadata": {},
   "source": [
    "Since March, I relocated to a new city due to the office return-to-office (RTO) policy, leading to an increase in grocery expenses. Lower grocery spending in a specific month indicates that I was back in my hometown during that period."
   ]
  },
  {
   "cell_type": "code",
   "execution_count": 46,
   "id": "a0806ac5",
   "metadata": {},
   "outputs": [
    {
     "data": {
      "text/plain": [
       "array(['Zudio', 'Trends', 'Amazon', 'Lalitha Jwellery', 'Vendor', 'Gas'],\n",
       "      dtype=object)"
      ]
     },
     "execution_count": 46,
     "metadata": {},
     "output_type": "execute_result"
    }
   ],
   "source": [
    "#Companies where i did shopping\n",
    "shop_company = df[df['Category']=='Shopping']\n",
    "shop_company = shop_company['Company'].unique()\n",
    "shop_company"
   ]
  },
  {
   "cell_type": "code",
   "execution_count": 117,
   "id": "041c26d2",
   "metadata": {},
   "outputs": [
    {
     "data": {
      "image/png": "[encoded data removed]",
      "text/plain": [
       "<Figure size 640x480 with 1 Axes>"
      ]
     },
     "metadata": {},
     "output_type": "display_data"
    }
   ],
   "source": [
    "shopping_monthly_df = df[df['Category']=='Shopping']\n",
    "shopping_monthly_spent = shopping_monthly_df.groupby('Company')['Debit'].sum().reset_index()\n",
    "shopping_monthly_spent.plot.bar(x='Company', y='Debit', title='Shopping Monthly Spending Distribution',color='tomato')\n",
    "plt.show()"
   ]
  },
  {
   "cell_type": "code",
   "execution_count": null,
   "id": "48935576",
   "metadata": {},
   "outputs": [],
   "source": []
  }
 ],
 "metadata": {
  "kernelspec": {
   "display_name": "Python 3 (ipykernel)",
   "language": "python",
   "name": "python3"
  },
  "language_info": {
   "codemirror_mode": {
    "name": "ipython",
    "version": 3
   },
   "file_extension": ".py",
   "mimetype": "text/x-python",
   "name": "python",
   "nbconvert_exporter": "python",
   "pygments_lexer": "ipython3",
   "version": "3.11.5"
  }
 },
 "nbformat": 4,
 "nbformat_minor": 5
}
