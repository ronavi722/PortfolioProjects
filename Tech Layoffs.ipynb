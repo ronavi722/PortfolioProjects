{
 "cells": [
  {
   "cell_type": "markdown",
   "id": "a7dc0a32",
   "metadata": {},
   "source": [
    "### Importing Libraries"
   ]
  },
  {
   "cell_type": "code",
   "execution_count": 78,
   "id": "64589c14",
   "metadata": {},
   "outputs": [],
   "source": [
    "import pandas as pd\n",
    "import numpy as np\n",
    "import matplotlib.pylab as plt\n",
    "import seaborn as sns\n",
    "import plotly.express as px"
   ]
  },
  {
   "cell_type": "markdown",
   "id": "2755b5ae",
   "metadata": {},
   "source": [
    "### Exploring the dataset"
   ]
  },
  {
   "cell_type": "code",
   "execution_count": 79,
   "id": "6ab48a94",
   "metadata": {},
   "outputs": [
    {
     "data": {
      "text/html": [
       "<div>\n",
       "<style scoped>\n",
       "    .dataframe tbody tr th:only-of-type {\n",
       "        vertical-align: middle;\n",
       "    }\n",
       "\n",
       "    .dataframe tbody tr th {\n",
       "        vertical-align: top;\n",
       "    }\n",
       "\n",
       "    .dataframe thead th {\n",
       "        text-align: right;\n",
       "    }\n",
       "</style>\n",
       "<table border=\"1\" class=\"dataframe\">\n",
       "  <thead>\n",
       "    <tr style=\"text-align: right;\">\n",
       "      <th></th>\n",
       "      <th>#</th>\n",
       "      <th>Company</th>\n",
       "      <th>Location_HQ</th>\n",
       "      <th>Country</th>\n",
       "      <th>Continent</th>\n",
       "      <th>Laid_Off</th>\n",
       "      <th>Date_layoffs</th>\n",
       "      <th>Percentage</th>\n",
       "      <th>Company_Size_before_Layoffs</th>\n",
       "      <th>Company_Size_after_layoffs</th>\n",
       "      <th>Industry</th>\n",
       "      <th>Stage</th>\n",
       "      <th>Money_Raised_in_$_mil</th>\n",
       "      <th>Year</th>\n",
       "      <th>lat</th>\n",
       "      <th>lng</th>\n",
       "    </tr>\n",
       "  </thead>\n",
       "  <tbody>\n",
       "    <tr>\n",
       "      <th>0</th>\n",
       "      <td>3</td>\n",
       "      <td>ShareChat</td>\n",
       "      <td>Bengaluru</td>\n",
       "      <td>India</td>\n",
       "      <td>Asia</td>\n",
       "      <td>200</td>\n",
       "      <td>2023-12-20</td>\n",
       "      <td>15.0</td>\n",
       "      <td>1333</td>\n",
       "      <td>1133</td>\n",
       "      <td>Consumer</td>\n",
       "      <td>Series H</td>\n",
       "      <td>$1700</td>\n",
       "      <td>2023</td>\n",
       "      <td>12.97194</td>\n",
       "      <td>77.59369</td>\n",
       "    </tr>\n",
       "    <tr>\n",
       "      <th>1</th>\n",
       "      <td>4</td>\n",
       "      <td>InSightec</td>\n",
       "      <td>Haifa</td>\n",
       "      <td>Israel</td>\n",
       "      <td>Asia</td>\n",
       "      <td>100</td>\n",
       "      <td>2023-12-19</td>\n",
       "      <td>20.0</td>\n",
       "      <td>500</td>\n",
       "      <td>400</td>\n",
       "      <td>Healthcare</td>\n",
       "      <td>Unknown</td>\n",
       "      <td>$733</td>\n",
       "      <td>2023</td>\n",
       "      <td>32.81841</td>\n",
       "      <td>34.98850</td>\n",
       "    </tr>\n",
       "    <tr>\n",
       "      <th>2</th>\n",
       "      <td>6</td>\n",
       "      <td>Enphase Energy</td>\n",
       "      <td>San Francisco Bay Area</td>\n",
       "      <td>USA</td>\n",
       "      <td>North America</td>\n",
       "      <td>350</td>\n",
       "      <td>2023-12-18</td>\n",
       "      <td>10.0</td>\n",
       "      <td>3500</td>\n",
       "      <td>3150</td>\n",
       "      <td>Energy</td>\n",
       "      <td>Post-IPO</td>\n",
       "      <td>$116</td>\n",
       "      <td>2023</td>\n",
       "      <td>37.54827</td>\n",
       "      <td>-121.98857</td>\n",
       "    </tr>\n",
       "    <tr>\n",
       "      <th>3</th>\n",
       "      <td>7</td>\n",
       "      <td>Udaan</td>\n",
       "      <td>Bengaluru</td>\n",
       "      <td>India</td>\n",
       "      <td>Asia</td>\n",
       "      <td>100</td>\n",
       "      <td>2023-12-18</td>\n",
       "      <td>10.0</td>\n",
       "      <td>1000</td>\n",
       "      <td>900</td>\n",
       "      <td>Retail</td>\n",
       "      <td>Unknown</td>\n",
       "      <td>1500</td>\n",
       "      <td>2023</td>\n",
       "      <td>12.97194</td>\n",
       "      <td>77.59369</td>\n",
       "    </tr>\n",
       "    <tr>\n",
       "      <th>4</th>\n",
       "      <td>14</td>\n",
       "      <td>Cruise</td>\n",
       "      <td>San Francisco Bay Area</td>\n",
       "      <td>USA</td>\n",
       "      <td>North America</td>\n",
       "      <td>900</td>\n",
       "      <td>2023-12-14</td>\n",
       "      <td>24.0</td>\n",
       "      <td>3750</td>\n",
       "      <td>2850</td>\n",
       "      <td>Transportation</td>\n",
       "      <td>Acquired</td>\n",
       "      <td>$15000</td>\n",
       "      <td>2023</td>\n",
       "      <td>37.77493</td>\n",
       "      <td>-122.41942</td>\n",
       "    </tr>\n",
       "    <tr>\n",
       "      <th>...</th>\n",
       "      <td>...</td>\n",
       "      <td>...</td>\n",
       "      <td>...</td>\n",
       "      <td>...</td>\n",
       "      <td>...</td>\n",
       "      <td>...</td>\n",
       "      <td>...</td>\n",
       "      <td>...</td>\n",
       "      <td>...</td>\n",
       "      <td>...</td>\n",
       "      <td>...</td>\n",
       "      <td>...</td>\n",
       "      <td>...</td>\n",
       "      <td>...</td>\n",
       "      <td>...</td>\n",
       "      <td>...</td>\n",
       "    </tr>\n",
       "    <tr>\n",
       "      <th>1413</th>\n",
       "      <td>3286</td>\n",
       "      <td>Pitch</td>\n",
       "      <td>Berlin</td>\n",
       "      <td>Germany</td>\n",
       "      <td>Europe</td>\n",
       "      <td>80</td>\n",
       "      <td>2024-08-01</td>\n",
       "      <td>67.0</td>\n",
       "      <td>119</td>\n",
       "      <td>39</td>\n",
       "      <td>Other</td>\n",
       "      <td>Series B</td>\n",
       "      <td>$138</td>\n",
       "      <td>2024</td>\n",
       "      <td>52.52437</td>\n",
       "      <td>13.41053</td>\n",
       "    </tr>\n",
       "    <tr>\n",
       "      <th>1414</th>\n",
       "      <td>3287</td>\n",
       "      <td>BenchSci</td>\n",
       "      <td>Toronto</td>\n",
       "      <td>Canada</td>\n",
       "      <td>North America</td>\n",
       "      <td>70</td>\n",
       "      <td>2024-08-01</td>\n",
       "      <td>17.0</td>\n",
       "      <td>412</td>\n",
       "      <td>342</td>\n",
       "      <td>Healthcare</td>\n",
       "      <td>Series D</td>\n",
       "      <td>$164</td>\n",
       "      <td>2024</td>\n",
       "      <td>43.70643</td>\n",
       "      <td>-79.39864</td>\n",
       "    </tr>\n",
       "    <tr>\n",
       "      <th>1415</th>\n",
       "      <td>3288</td>\n",
       "      <td>NanoString Technology</td>\n",
       "      <td>Seattle</td>\n",
       "      <td>USA</td>\n",
       "      <td>North America</td>\n",
       "      <td>50</td>\n",
       "      <td>2024-08-01</td>\n",
       "      <td>9.0</td>\n",
       "      <td>556</td>\n",
       "      <td>506</td>\n",
       "      <td>Healthcare</td>\n",
       "      <td>Post-IPO</td>\n",
       "      <td>$826</td>\n",
       "      <td>2024</td>\n",
       "      <td>47.60621</td>\n",
       "      <td>-122.33207</td>\n",
       "    </tr>\n",
       "    <tr>\n",
       "      <th>1416</th>\n",
       "      <td>3289</td>\n",
       "      <td>Trigo</td>\n",
       "      <td>Tel Aviv</td>\n",
       "      <td>Israel</td>\n",
       "      <td>Asia</td>\n",
       "      <td>30</td>\n",
       "      <td>2024-04-01</td>\n",
       "      <td>15.0</td>\n",
       "      <td>200</td>\n",
       "      <td>170</td>\n",
       "      <td>Retail</td>\n",
       "      <td>Series C</td>\n",
       "      <td>$199</td>\n",
       "      <td>2024</td>\n",
       "      <td>32.08088</td>\n",
       "      <td>34.78057</td>\n",
       "    </tr>\n",
       "    <tr>\n",
       "      <th>1417</th>\n",
       "      <td>3290</td>\n",
       "      <td>Frontdesk</td>\n",
       "      <td>Milwaukee</td>\n",
       "      <td>USA</td>\n",
       "      <td>North America</td>\n",
       "      <td>200</td>\n",
       "      <td>2024-02-01</td>\n",
       "      <td>100.0</td>\n",
       "      <td>200</td>\n",
       "      <td>0</td>\n",
       "      <td>Travel</td>\n",
       "      <td>Unknown</td>\n",
       "      <td>$26</td>\n",
       "      <td>2024</td>\n",
       "      <td>43.03890</td>\n",
       "      <td>-87.90647</td>\n",
       "    </tr>\n",
       "  </tbody>\n",
       "</table>\n",
       "<p>1418 rows × 16 columns</p>\n",
       "</div>"
      ],
      "text/plain": [
       "         #                Company             Location_HQ  Country  \\\n",
       "0        3              ShareChat               Bengaluru    India   \n",
       "1        4              InSightec                   Haifa   Israel   \n",
       "2        6         Enphase Energy  San Francisco Bay Area      USA   \n",
       "3        7                  Udaan               Bengaluru    India   \n",
       "4       14                 Cruise  San Francisco Bay Area      USA   \n",
       "...    ...                    ...                     ...      ...   \n",
       "1413  3286                  Pitch                  Berlin  Germany   \n",
       "1414  3287               BenchSci                 Toronto   Canada   \n",
       "1415  3288  NanoString Technology                 Seattle      USA   \n",
       "1416  3289                  Trigo                Tel Aviv   Israel   \n",
       "1417  3290              Frontdesk               Milwaukee      USA   \n",
       "\n",
       "          Continent  Laid_Off Date_layoffs  Percentage  \\\n",
       "0              Asia       200   2023-12-20        15.0   \n",
       "1              Asia       100   2023-12-19        20.0   \n",
       "2     North America       350   2023-12-18        10.0   \n",
       "3              Asia       100   2023-12-18        10.0   \n",
       "4     North America       900   2023-12-14        24.0   \n",
       "...             ...       ...          ...         ...   \n",
       "1413         Europe        80   2024-08-01        67.0   \n",
       "1414  North America        70   2024-08-01        17.0   \n",
       "1415  North America        50   2024-08-01         9.0   \n",
       "1416           Asia        30   2024-04-01        15.0   \n",
       "1417  North America       200   2024-02-01       100.0   \n",
       "\n",
       "      Company_Size_before_Layoffs  Company_Size_after_layoffs        Industry  \\\n",
       "0                            1333                        1133        Consumer   \n",
       "1                             500                         400      Healthcare   \n",
       "2                            3500                        3150          Energy   \n",
       "3                            1000                         900          Retail   \n",
       "4                            3750                        2850  Transportation   \n",
       "...                           ...                         ...             ...   \n",
       "1413                          119                          39           Other   \n",
       "1414                          412                         342      Healthcare   \n",
       "1415                          556                         506      Healthcare   \n",
       "1416                          200                         170          Retail   \n",
       "1417                          200                           0          Travel   \n",
       "\n",
       "         Stage Money_Raised_in_$_mil  Year       lat        lng  \n",
       "0     Series H                 $1700  2023  12.97194   77.59369  \n",
       "1      Unknown                  $733  2023  32.81841   34.98850  \n",
       "2     Post-IPO                  $116  2023  37.54827 -121.98857  \n",
       "3      Unknown                  1500  2023  12.97194   77.59369  \n",
       "4     Acquired                $15000  2023  37.77493 -122.41942  \n",
       "...        ...                   ...   ...       ...        ...  \n",
       "1413  Series B                  $138  2024  52.52437   13.41053  \n",
       "1414  Series D                  $164  2024  43.70643  -79.39864  \n",
       "1415  Post-IPO                  $826  2024  47.60621 -122.33207  \n",
       "1416  Series C                  $199  2024  32.08088   34.78057  \n",
       "1417   Unknown                   $26  2024  43.03890  -87.90647  \n",
       "\n",
       "[1418 rows x 16 columns]"
      ]
     },
     "execution_count": 79,
     "metadata": {},
     "output_type": "execute_result"
    }
   ],
   "source": [
    "df = pd.read_excel(r\"C:\\Users\\muthu\\Downloads\\tech_layoffs.xlsx\")\n",
    "df"
   ]
  },
  {
   "cell_type": "code",
   "execution_count": 80,
   "id": "0a280a0f",
   "metadata": {},
   "outputs": [
    {
     "data": {
      "text/plain": [
       "Index(['#', 'Company', 'Location_HQ', 'Country', 'Continent', 'Laid_Off',\n",
       "       'Date_layoffs', 'Percentage', 'Company_Size_before_Layoffs',\n",
       "       'Company_Size_after_layoffs', 'Industry', 'Stage',\n",
       "       'Money_Raised_in_$_mil', 'Year', 'lat', 'lng'],\n",
       "      dtype='object')"
      ]
     },
     "execution_count": 80,
     "metadata": {},
     "output_type": "execute_result"
    }
   ],
   "source": [
    "df.columns"
   ]
  },
  {
   "cell_type": "code",
   "execution_count": 81,
   "id": "e1799668",
   "metadata": {},
   "outputs": [
    {
     "data": {
      "text/html": [
       "<div>\n",
       "<style scoped>\n",
       "    .dataframe tbody tr th:only-of-type {\n",
       "        vertical-align: middle;\n",
       "    }\n",
       "\n",
       "    .dataframe tbody tr th {\n",
       "        vertical-align: top;\n",
       "    }\n",
       "\n",
       "    .dataframe thead th {\n",
       "        text-align: right;\n",
       "    }\n",
       "</style>\n",
       "<table border=\"1\" class=\"dataframe\">\n",
       "  <thead>\n",
       "    <tr style=\"text-align: right;\">\n",
       "      <th></th>\n",
       "      <th>Company</th>\n",
       "      <th>Location_HQ</th>\n",
       "      <th>Country</th>\n",
       "      <th>Continent</th>\n",
       "      <th>Laid_Off</th>\n",
       "      <th>Date_layoffs</th>\n",
       "      <th>Percentage</th>\n",
       "      <th>Company_Size_before_Layoffs</th>\n",
       "      <th>Company_Size_after_layoffs</th>\n",
       "      <th>Industry</th>\n",
       "      <th>Stage</th>\n",
       "      <th>Money_Raised_in_$_mil</th>\n",
       "      <th>Year</th>\n",
       "      <th>lat</th>\n",
       "      <th>lng</th>\n",
       "    </tr>\n",
       "  </thead>\n",
       "  <tbody>\n",
       "    <tr>\n",
       "      <th>0</th>\n",
       "      <td>ShareChat</td>\n",
       "      <td>Bengaluru</td>\n",
       "      <td>India</td>\n",
       "      <td>Asia</td>\n",
       "      <td>200</td>\n",
       "      <td>2023-12-20</td>\n",
       "      <td>15.0</td>\n",
       "      <td>1333</td>\n",
       "      <td>1133</td>\n",
       "      <td>Consumer</td>\n",
       "      <td>Series H</td>\n",
       "      <td>$1700</td>\n",
       "      <td>2023</td>\n",
       "      <td>12.97194</td>\n",
       "      <td>77.59369</td>\n",
       "    </tr>\n",
       "    <tr>\n",
       "      <th>1</th>\n",
       "      <td>InSightec</td>\n",
       "      <td>Haifa</td>\n",
       "      <td>Israel</td>\n",
       "      <td>Asia</td>\n",
       "      <td>100</td>\n",
       "      <td>2023-12-19</td>\n",
       "      <td>20.0</td>\n",
       "      <td>500</td>\n",
       "      <td>400</td>\n",
       "      <td>Healthcare</td>\n",
       "      <td>Unknown</td>\n",
       "      <td>$733</td>\n",
       "      <td>2023</td>\n",
       "      <td>32.81841</td>\n",
       "      <td>34.98850</td>\n",
       "    </tr>\n",
       "    <tr>\n",
       "      <th>2</th>\n",
       "      <td>Enphase Energy</td>\n",
       "      <td>San Francisco Bay Area</td>\n",
       "      <td>USA</td>\n",
       "      <td>North America</td>\n",
       "      <td>350</td>\n",
       "      <td>2023-12-18</td>\n",
       "      <td>10.0</td>\n",
       "      <td>3500</td>\n",
       "      <td>3150</td>\n",
       "      <td>Energy</td>\n",
       "      <td>Post-IPO</td>\n",
       "      <td>$116</td>\n",
       "      <td>2023</td>\n",
       "      <td>37.54827</td>\n",
       "      <td>-121.98857</td>\n",
       "    </tr>\n",
       "    <tr>\n",
       "      <th>3</th>\n",
       "      <td>Udaan</td>\n",
       "      <td>Bengaluru</td>\n",
       "      <td>India</td>\n",
       "      <td>Asia</td>\n",
       "      <td>100</td>\n",
       "      <td>2023-12-18</td>\n",
       "      <td>10.0</td>\n",
       "      <td>1000</td>\n",
       "      <td>900</td>\n",
       "      <td>Retail</td>\n",
       "      <td>Unknown</td>\n",
       "      <td>1500</td>\n",
       "      <td>2023</td>\n",
       "      <td>12.97194</td>\n",
       "      <td>77.59369</td>\n",
       "    </tr>\n",
       "    <tr>\n",
       "      <th>4</th>\n",
       "      <td>Cruise</td>\n",
       "      <td>San Francisco Bay Area</td>\n",
       "      <td>USA</td>\n",
       "      <td>North America</td>\n",
       "      <td>900</td>\n",
       "      <td>2023-12-14</td>\n",
       "      <td>24.0</td>\n",
       "      <td>3750</td>\n",
       "      <td>2850</td>\n",
       "      <td>Transportation</td>\n",
       "      <td>Acquired</td>\n",
       "      <td>$15000</td>\n",
       "      <td>2023</td>\n",
       "      <td>37.77493</td>\n",
       "      <td>-122.41942</td>\n",
       "    </tr>\n",
       "  </tbody>\n",
       "</table>\n",
       "</div>"
      ],
      "text/plain": [
       "          Company             Location_HQ Country      Continent  Laid_Off  \\\n",
       "0       ShareChat               Bengaluru   India           Asia       200   \n",
       "1       InSightec                   Haifa  Israel           Asia       100   \n",
       "2  Enphase Energy  San Francisco Bay Area     USA  North America       350   \n",
       "3           Udaan               Bengaluru   India           Asia       100   \n",
       "4          Cruise  San Francisco Bay Area     USA  North America       900   \n",
       "\n",
       "  Date_layoffs  Percentage  Company_Size_before_Layoffs  \\\n",
       "0   2023-12-20        15.0                         1333   \n",
       "1   2023-12-19        20.0                          500   \n",
       "2   2023-12-18        10.0                         3500   \n",
       "3   2023-12-18        10.0                         1000   \n",
       "4   2023-12-14        24.0                         3750   \n",
       "\n",
       "   Company_Size_after_layoffs        Industry     Stage Money_Raised_in_$_mil  \\\n",
       "0                        1133        Consumer  Series H                 $1700   \n",
       "1                         400      Healthcare   Unknown                  $733   \n",
       "2                        3150          Energy  Post-IPO                  $116   \n",
       "3                         900          Retail   Unknown                  1500   \n",
       "4                        2850  Transportation  Acquired                $15000   \n",
       "\n",
       "   Year       lat        lng  \n",
       "0  2023  12.97194   77.59369  \n",
       "1  2023  32.81841   34.98850  \n",
       "2  2023  37.54827 -121.98857  \n",
       "3  2023  12.97194   77.59369  \n",
       "4  2023  37.77493 -122.41942  "
      ]
     },
     "execution_count": 81,
     "metadata": {},
     "output_type": "execute_result"
    }
   ],
   "source": [
    "df.drop('#',axis=1,inplace=True)\n",
    "df.head()"
   ]
  },
  {
   "cell_type": "code",
   "execution_count": 82,
   "id": "32293e69",
   "metadata": {},
   "outputs": [
    {
     "data": {
      "text/plain": [
       "array(['India', 'Israel', 'USA', 'Sweden', 'United Kingdom', 'Canada',\n",
       "       'France', 'Netherlands', 'Germany', 'Estonia', 'Kenya', 'Brazil',\n",
       "       'New Zealand', 'Ireland', 'Australia', 'Singapore', 'Chile',\n",
       "       'Spain', 'South Korea', 'Indonesia', 'Japan', 'China', 'Argentina',\n",
       "       'Nigeria', 'United Arabian Emirates', 'Denmark', 'Norway',\n",
       "       'Thailand', 'Senegal', 'Hong Kong', 'Austria', 'Finland',\n",
       "       'Malaysia', 'Mexico', 'Russia', 'Switzerland', 'Portugal'],\n",
       "      dtype=object)"
      ]
     },
     "execution_count": 82,
     "metadata": {},
     "output_type": "execute_result"
    }
   ],
   "source": [
    "df['Country'].unique()"
   ]
  },
  {
   "cell_type": "code",
   "execution_count": 83,
   "id": "546c7cfb",
   "metadata": {},
   "outputs": [
    {
     "data": {
      "text/plain": [
       "Company                                object\n",
       "Location_HQ                            object\n",
       "Country                                object\n",
       "Continent                              object\n",
       "Laid_Off                                int64\n",
       "Date_layoffs                   datetime64[ns]\n",
       "Percentage                            float64\n",
       "Company_Size_before_Layoffs             int64\n",
       "Company_Size_after_layoffs              int64\n",
       "Industry                               object\n",
       "Stage                                  object\n",
       "Money_Raised_in_$_mil                  object\n",
       "Year                                    int64\n",
       "lat                                   float64\n",
       "lng                                   float64\n",
       "dtype: object"
      ]
     },
     "execution_count": 83,
     "metadata": {},
     "output_type": "execute_result"
    }
   ],
   "source": [
    "df.dtypes"
   ]
  },
  {
   "cell_type": "markdown",
   "id": "0b29a64e",
   "metadata": {},
   "source": [
    "### EDA by Country"
   ]
  },
  {
   "cell_type": "code",
   "execution_count": 65,
   "id": "b6933962",
   "metadata": {},
   "outputs": [
    {
     "data": {
      "application/vnd.plotly.v1+json": {
       "config": {
        "plotlyServerURL": "https://plot.ly"
       },
       "data": [
        {
         "alignmentgroup": "True",
         "hovertemplate": "Country=%{x}<br>Laid_Off=%{y}<extra></extra>",
         "legendgroup": "",
         "marker": {
          "color": "#636efa",
          "pattern": {
           "shape": ""
          }
         },
         "name": "",
         "offsetgroup": "",
         "orientation": "v",
         "showlegend": false,
         "textposition": "auto",
         "type": "bar",
         "x": [
          "USA",
          "India",
          "Germany",
          "Sweden",
          "United Kingdom"
         ],
         "xaxis": "x",
         "y": [
          273981,
          25490,
          15424,
          12447,
          11915
         ],
         "yaxis": "y"
        }
       ],
       "layout": {
        "barmode": "relative",
        "legend": {
         "tracegroupgap": 0
        },
        "template": {
         "data": {
          "bar": [
           {
            "error_x": {
             "color": "#2a3f5f"
            },
            "error_y": {
             "color": "#2a3f5f"
            },
            "marker": {
             "line": {
              "color": "#E5ECF6",
              "width": 0.5
             },
             "pattern": {
              "fillmode": "overlay",
              "size": 10,
              "solidity": 0.2
             }
            },
            "type": "bar"
           }
          ],
          "barpolar": [
           {
            "marker": {
             "line": {
              "color": "#E5ECF6",
              "width": 0.5
             },
             "pattern": {
              "fillmode": "overlay",
              "size": 10,
              "solidity": 0.2
             }
            },
            "type": "barpolar"
           }
          ],
          "carpet": [
           {
            "aaxis": {
             "endlinecolor": "#2a3f5f",
             "gridcolor": "white",
             "linecolor": "white",
             "minorgridcolor": "white",
             "startlinecolor": "#2a3f5f"
            },
            "baxis": {
             "endlinecolor": "#2a3f5f",
             "gridcolor": "white",
             "linecolor": "white",
             "minorgridcolor": "white",
             "startlinecolor": "#2a3f5f"
            },
            "type": "carpet"
           }
          ],
          "choropleth": [
           {
            "colorbar": {
             "outlinewidth": 0,
             "ticks": ""
            },
            "type": "choropleth"
           }
          ],
          "contour": [
           {
            "colorbar": {
             "outlinewidth": 0,
             "ticks": ""
            },
            "colorscale": [
             [
              0,
              "#0d0887"
             ],
             [
              0.1111111111111111,
              "#46039f"
             ],
             [
              0.2222222222222222,
              "#7201a8"
             ],
             [
              0.3333333333333333,
              "#9c179e"
             ],
             [
              0.4444444444444444,
              "#bd3786"
             ],
             [
              0.5555555555555556,
              "#d8576b"
             ],
             [
              0.6666666666666666,
              "#ed7953"
             ],
             [
              0.7777777777777778,
              "#fb9f3a"
             ],
             [
              0.8888888888888888,
              "#fdca26"
             ],
             [
              1,
              "#f0f921"
             ]
            ],
            "type": "contour"
           }
          ],
          "contourcarpet": [
           {
            "colorbar": {
             "outlinewidth": 0,
             "ticks": ""
            },
            "type": "contourcarpet"
           }
          ],
          "heatmap": [
           {
            "colorbar": {
             "outlinewidth": 0,
             "ticks": ""
            },
            "colorscale": [
             [
              0,
              "#0d0887"
             ],
             [
              0.1111111111111111,
              "#46039f"
             ],
             [
              0.2222222222222222,
              "#7201a8"
             ],
             [
              0.3333333333333333,
              "#9c179e"
             ],
             [
              0.4444444444444444,
              "#bd3786"
             ],
             [
              0.5555555555555556,
              "#d8576b"
             ],
             [
              0.6666666666666666,
              "#ed7953"
             ],
             [
              0.7777777777777778,
              "#fb9f3a"
             ],
             [
              0.8888888888888888,
              "#fdca26"
             ],
             [
              1,
              "#f0f921"
             ]
            ],
            "type": "heatmap"
           }
          ],
          "heatmapgl": [
           {
            "colorbar": {
             "outlinewidth": 0,
             "ticks": ""
            },
            "colorscale": [
             [
              0,
              "#0d0887"
             ],
             [
              0.1111111111111111,
              "#46039f"
             ],
             [
              0.2222222222222222,
              "#7201a8"
             ],
             [
              0.3333333333333333,
              "#9c179e"
             ],
             [
              0.4444444444444444,
              "#bd3786"
             ],
             [
              0.5555555555555556,
              "#d8576b"
             ],
             [
              0.6666666666666666,
              "#ed7953"
             ],
             [
              0.7777777777777778,
              "#fb9f3a"
             ],
             [
              0.8888888888888888,
              "#fdca26"
             ],
             [
              1,
              "#f0f921"
             ]
            ],
            "type": "heatmapgl"
           }
          ],
          "histogram": [
           {
            "marker": {
             "pattern": {
              "fillmode": "overlay",
              "size": 10,
              "solidity": 0.2
             }
            },
            "type": "histogram"
           }
          ],
          "histogram2d": [
           {
            "colorbar": {
             "outlinewidth": 0,
             "ticks": ""
            },
            "colorscale": [
             [
              0,
              "#0d0887"
             ],
             [
              0.1111111111111111,
              "#46039f"
             ],
             [
              0.2222222222222222,
              "#7201a8"
             ],
             [
              0.3333333333333333,
              "#9c179e"
             ],
             [
              0.4444444444444444,
              "#bd3786"
             ],
             [
              0.5555555555555556,
              "#d8576b"
             ],
             [
              0.6666666666666666,
              "#ed7953"
             ],
             [
              0.7777777777777778,
              "#fb9f3a"
             ],
             [
              0.8888888888888888,
              "#fdca26"
             ],
             [
              1,
              "#f0f921"
             ]
            ],
            "type": "histogram2d"
           }
          ],
          "histogram2dcontour": [
           {
            "colorbar": {
             "outlinewidth": 0,
             "ticks": ""
            },
            "colorscale": [
             [
              0,
              "#0d0887"
             ],
             [
              0.1111111111111111,
              "#46039f"
             ],
             [
              0.2222222222222222,
              "#7201a8"
             ],
             [
              0.3333333333333333,
              "#9c179e"
             ],
             [
              0.4444444444444444,
              "#bd3786"
             ],
             [
              0.5555555555555556,
              "#d8576b"
             ],
             [
              0.6666666666666666,
              "#ed7953"
             ],
             [
              0.7777777777777778,
              "#fb9f3a"
             ],
             [
              0.8888888888888888,
              "#fdca26"
             ],
             [
              1,
              "#f0f921"
             ]
            ],
            "type": "histogram2dcontour"
           }
          ],
          "mesh3d": [
           {
            "colorbar": {
             "outlinewidth": 0,
             "ticks": ""
            },
            "type": "mesh3d"
           }
          ],
          "parcoords": [
           {
            "line": {
             "colorbar": {
              "outlinewidth": 0,
              "ticks": ""
             }
            },
            "type": "parcoords"
           }
          ],
          "pie": [
           {
            "automargin": true,
            "type": "pie"
           }
          ],
          "scatter": [
           {
            "fillpattern": {
             "fillmode": "overlay",
             "size": 10,
             "solidity": 0.2
            },
            "type": "scatter"
           }
          ],
          "scatter3d": [
           {
            "line": {
             "colorbar": {
              "outlinewidth": 0,
              "ticks": ""
             }
            },
            "marker": {
             "colorbar": {
              "outlinewidth": 0,
              "ticks": ""
             }
            },
            "type": "scatter3d"
           }
          ],
          "scattercarpet": [
           {
            "marker": {
             "colorbar": {
              "outlinewidth": 0,
              "ticks": ""
             }
            },
            "type": "scattercarpet"
           }
          ],
          "scattergeo": [
           {
            "marker": {
             "colorbar": {
              "outlinewidth": 0,
              "ticks": ""
             }
            },
            "type": "scattergeo"
           }
          ],
          "scattergl": [
           {
            "marker": {
             "colorbar": {
              "outlinewidth": 0,
              "ticks": ""
             }
            },
            "type": "scattergl"
           }
          ],
          "scattermapbox": [
           {
            "marker": {
             "colorbar": {
              "outlinewidth": 0,
              "ticks": ""
             }
            },
            "type": "scattermapbox"
           }
          ],
          "scatterpolar": [
           {
            "marker": {
             "colorbar": {
              "outlinewidth": 0,
              "ticks": ""
             }
            },
            "type": "scatterpolar"
           }
          ],
          "scatterpolargl": [
           {
            "marker": {
             "colorbar": {
              "outlinewidth": 0,
              "ticks": ""
             }
            },
            "type": "scatterpolargl"
           }
          ],
          "scatterternary": [
           {
            "marker": {
             "colorbar": {
              "outlinewidth": 0,
              "ticks": ""
             }
            },
            "type": "scatterternary"
           }
          ],
          "surface": [
           {
            "colorbar": {
             "outlinewidth": 0,
             "ticks": ""
            },
            "colorscale": [
             [
              0,
              "#0d0887"
             ],
             [
              0.1111111111111111,
              "#46039f"
             ],
             [
              0.2222222222222222,
              "#7201a8"
             ],
             [
              0.3333333333333333,
              "#9c179e"
             ],
             [
              0.4444444444444444,
              "#bd3786"
             ],
             [
              0.5555555555555556,
              "#d8576b"
             ],
             [
              0.6666666666666666,
              "#ed7953"
             ],
             [
              0.7777777777777778,
              "#fb9f3a"
             ],
             [
              0.8888888888888888,
              "#fdca26"
             ],
             [
              1,
              "#f0f921"
             ]
            ],
            "type": "surface"
           }
          ],
          "table": [
           {
            "cells": {
             "fill": {
              "color": "#EBF0F8"
             },
             "line": {
              "color": "white"
             }
            },
            "header": {
             "fill": {
              "color": "#C8D4E3"
             },
             "line": {
              "color": "white"
             }
            },
            "type": "table"
           }
          ]
         },
         "layout": {
          "annotationdefaults": {
           "arrowcolor": "#2a3f5f",
           "arrowhead": 0,
           "arrowwidth": 1
          },
          "autotypenumbers": "strict",
          "coloraxis": {
           "colorbar": {
            "outlinewidth": 0,
            "ticks": ""
           }
          },
          "colorscale": {
           "diverging": [
            [
             0,
             "#8e0152"
            ],
            [
             0.1,
             "#c51b7d"
            ],
            [
             0.2,
             "#de77ae"
            ],
            [
             0.3,
             "#f1b6da"
            ],
            [
             0.4,
             "#fde0ef"
            ],
            [
             0.5,
             "#f7f7f7"
            ],
            [
             0.6,
             "#e6f5d0"
            ],
            [
             0.7,
             "#b8e186"
            ],
            [
             0.8,
             "#7fbc41"
            ],
            [
             0.9,
             "#4d9221"
            ],
            [
             1,
             "#276419"
            ]
           ],
           "sequential": [
            [
             0,
             "#0d0887"
            ],
            [
             0.1111111111111111,
             "#46039f"
            ],
            [
             0.2222222222222222,
             "#7201a8"
            ],
            [
             0.3333333333333333,
             "#9c179e"
            ],
            [
             0.4444444444444444,
             "#bd3786"
            ],
            [
             0.5555555555555556,
             "#d8576b"
            ],
            [
             0.6666666666666666,
             "#ed7953"
            ],
            [
             0.7777777777777778,
             "#fb9f3a"
            ],
            [
             0.8888888888888888,
             "#fdca26"
            ],
            [
             1,
             "#f0f921"
            ]
           ],
           "sequentialminus": [
            [
             0,
             "#0d0887"
            ],
            [
             0.1111111111111111,
             "#46039f"
            ],
            [
             0.2222222222222222,
             "#7201a8"
            ],
            [
             0.3333333333333333,
             "#9c179e"
            ],
            [
             0.4444444444444444,
             "#bd3786"
            ],
            [
             0.5555555555555556,
             "#d8576b"
            ],
            [
             0.6666666666666666,
             "#ed7953"
            ],
            [
             0.7777777777777778,
             "#fb9f3a"
            ],
            [
             0.8888888888888888,
             "#fdca26"
            ],
            [
             1,
             "#f0f921"
            ]
           ]
          },
          "colorway": [
           "#636efa",
           "#EF553B",
           "#00cc96",
           "#ab63fa",
           "#FFA15A",
           "#19d3f3",
           "#FF6692",
           "#B6E880",
           "#FF97FF",
           "#FECB52"
          ],
          "font": {
           "color": "#2a3f5f"
          },
          "geo": {
           "bgcolor": "white",
           "lakecolor": "white",
           "landcolor": "#E5ECF6",
           "showlakes": true,
           "showland": true,
           "subunitcolor": "white"
          },
          "hoverlabel": {
           "align": "left"
          },
          "hovermode": "closest",
          "mapbox": {
           "style": "light"
          },
          "paper_bgcolor": "white",
          "plot_bgcolor": "#E5ECF6",
          "polar": {
           "angularaxis": {
            "gridcolor": "white",
            "linecolor": "white",
            "ticks": ""
           },
           "bgcolor": "#E5ECF6",
           "radialaxis": {
            "gridcolor": "white",
            "linecolor": "white",
            "ticks": ""
           }
          },
          "scene": {
           "xaxis": {
            "backgroundcolor": "#E5ECF6",
            "gridcolor": "white",
            "gridwidth": 2,
            "linecolor": "white",
            "showbackground": true,
            "ticks": "",
            "zerolinecolor": "white"
           },
           "yaxis": {
            "backgroundcolor": "#E5ECF6",
            "gridcolor": "white",
            "gridwidth": 2,
            "linecolor": "white",
            "showbackground": true,
            "ticks": "",
            "zerolinecolor": "white"
           },
           "zaxis": {
            "backgroundcolor": "#E5ECF6",
            "gridcolor": "white",
            "gridwidth": 2,
            "linecolor": "white",
            "showbackground": true,
            "ticks": "",
            "zerolinecolor": "white"
           }
          },
          "shapedefaults": {
           "line": {
            "color": "#2a3f5f"
           }
          },
          "ternary": {
           "aaxis": {
            "gridcolor": "white",
            "linecolor": "white",
            "ticks": ""
           },
           "baxis": {
            "gridcolor": "white",
            "linecolor": "white",
            "ticks": ""
           },
           "bgcolor": "#E5ECF6",
           "caxis": {
            "gridcolor": "white",
            "linecolor": "white",
            "ticks": ""
           }
          },
          "title": {
           "x": 0.05
          },
          "xaxis": {
           "automargin": true,
           "gridcolor": "white",
           "linecolor": "white",
           "ticks": "",
           "title": {
            "standoff": 15
           },
           "zerolinecolor": "white",
           "zerolinewidth": 2
          },
          "yaxis": {
           "automargin": true,
           "gridcolor": "white",
           "linecolor": "white",
           "ticks": "",
           "title": {
            "standoff": 15
           },
           "zerolinecolor": "white",
           "zerolinewidth": 2
          }
         }
        },
        "title": {
         "text": "Top 5 Countries with Highest Layoffs"
        },
        "xaxis": {
         "anchor": "y",
         "domain": [
          0,
          1
         ],
         "title": {
          "text": "Country"
         }
        },
        "yaxis": {
         "anchor": "x",
         "domain": [
          0,
          1
         ],
         "title": {
          "text": "Laid_Off"
         }
        }
       }
      },
      "text/html": [
       "<div>                            <div id=\"e113a763-f42a-44d2-9ca9-e1771d07ff6d\" class=\"plotly-graph-div\" style=\"height:525px; width:100%;\"></div>            <script type=\"text/javascript\">                require([\"plotly\"], function(Plotly) {                    window.PLOTLYENV=window.PLOTLYENV || {};                                    if (document.getElementById(\"e113a763-f42a-44d2-9ca9-e1771d07ff6d\")) {                    Plotly.newPlot(                        \"e113a763-f42a-44d2-9ca9-e1771d07ff6d\",                        [{\"alignmentgroup\":\"True\",\"hovertemplate\":\"Country=%{x}<br>Laid_Off=%{y}<extra></extra>\",\"legendgroup\":\"\",\"marker\":{\"color\":\"#636efa\",\"pattern\":{\"shape\":\"\"}},\"name\":\"\",\"offsetgroup\":\"\",\"orientation\":\"v\",\"showlegend\":false,\"textposition\":\"auto\",\"x\":[\"USA\",\"India\",\"Germany\",\"Sweden\",\"United Kingdom\"],\"xaxis\":\"x\",\"y\":[273981,25490,15424,12447,11915],\"yaxis\":\"y\",\"type\":\"bar\"}],                        {\"template\":{\"data\":{\"histogram2dcontour\":[{\"type\":\"histogram2dcontour\",\"colorbar\":{\"outlinewidth\":0,\"ticks\":\"\"},\"colorscale\":[[0.0,\"#0d0887\"],[0.1111111111111111,\"#46039f\"],[0.2222222222222222,\"#7201a8\"],[0.3333333333333333,\"#9c179e\"],[0.4444444444444444,\"#bd3786\"],[0.5555555555555556,\"#d8576b\"],[0.6666666666666666,\"#ed7953\"],[0.7777777777777778,\"#fb9f3a\"],[0.8888888888888888,\"#fdca26\"],[1.0,\"#f0f921\"]]}],\"choropleth\":[{\"type\":\"choropleth\",\"colorbar\":{\"outlinewidth\":0,\"ticks\":\"\"}}],\"histogram2d\":[{\"type\":\"histogram2d\",\"colorbar\":{\"outlinewidth\":0,\"ticks\":\"\"},\"colorscale\":[[0.0,\"#0d0887\"],[0.1111111111111111,\"#46039f\"],[0.2222222222222222,\"#7201a8\"],[0.3333333333333333,\"#9c179e\"],[0.4444444444444444,\"#bd3786\"],[0.5555555555555556,\"#d8576b\"],[0.6666666666666666,\"#ed7953\"],[0.7777777777777778,\"#fb9f3a\"],[0.8888888888888888,\"#fdca26\"],[1.0,\"#f0f921\"]]}],\"heatmap\":[{\"type\":\"heatmap\",\"colorbar\":{\"outlinewidth\":0,\"ticks\":\"\"},\"colorscale\":[[0.0,\"#0d0887\"],[0.1111111111111111,\"#46039f\"],[0.2222222222222222,\"#7201a8\"],[0.3333333333333333,\"#9c179e\"],[0.4444444444444444,\"#bd3786\"],[0.5555555555555556,\"#d8576b\"],[0.6666666666666666,\"#ed7953\"],[0.7777777777777778,\"#fb9f3a\"],[0.8888888888888888,\"#fdca26\"],[1.0,\"#f0f921\"]]}],\"heatmapgl\":[{\"type\":\"heatmapgl\",\"colorbar\":{\"outlinewidth\":0,\"ticks\":\"\"},\"colorscale\":[[0.0,\"#0d0887\"],[0.1111111111111111,\"#46039f\"],[0.2222222222222222,\"#7201a8\"],[0.3333333333333333,\"#9c179e\"],[0.4444444444444444,\"#bd3786\"],[0.5555555555555556,\"#d8576b\"],[0.6666666666666666,\"#ed7953\"],[0.7777777777777778,\"#fb9f3a\"],[0.8888888888888888,\"#fdca26\"],[1.0,\"#f0f921\"]]}],\"contourcarpet\":[{\"type\":\"contourcarpet\",\"colorbar\":{\"outlinewidth\":0,\"ticks\":\"\"}}],\"contour\":[{\"type\":\"contour\",\"colorbar\":{\"outlinewidth\":0,\"ticks\":\"\"},\"colorscale\":[[0.0,\"#0d0887\"],[0.1111111111111111,\"#46039f\"],[0.2222222222222222,\"#7201a8\"],[0.3333333333333333,\"#9c179e\"],[0.4444444444444444,\"#bd3786\"],[0.5555555555555556,\"#d8576b\"],[0.6666666666666666,\"#ed7953\"],[0.7777777777777778,\"#fb9f3a\"],[0.8888888888888888,\"#fdca26\"],[1.0,\"#f0f921\"]]}],\"surface\":[{\"type\":\"surface\",\"colorbar\":{\"outlinewidth\":0,\"ticks\":\"\"},\"colorscale\":[[0.0,\"#0d0887\"],[0.1111111111111111,\"#46039f\"],[0.2222222222222222,\"#7201a8\"],[0.3333333333333333,\"#9c179e\"],[0.4444444444444444,\"#bd3786\"],[0.5555555555555556,\"#d8576b\"],[0.6666666666666666,\"#ed7953\"],[0.7777777777777778,\"#fb9f3a\"],[0.8888888888888888,\"#fdca26\"],[1.0,\"#f0f921\"]]}],\"mesh3d\":[{\"type\":\"mesh3d\",\"colorbar\":{\"outlinewidth\":0,\"ticks\":\"\"}}],\"scatter\":[{\"fillpattern\":{\"fillmode\":\"overlay\",\"size\":10,\"solidity\":0.2},\"type\":\"scatter\"}],\"parcoords\":[{\"type\":\"parcoords\",\"line\":{\"colorbar\":{\"outlinewidth\":0,\"ticks\":\"\"}}}],\"scatterpolargl\":[{\"type\":\"scatterpolargl\",\"marker\":{\"colorbar\":{\"outlinewidth\":0,\"ticks\":\"\"}}}],\"bar\":[{\"error_x\":{\"color\":\"#2a3f5f\"},\"error_y\":{\"color\":\"#2a3f5f\"},\"marker\":{\"line\":{\"color\":\"#E5ECF6\",\"width\":0.5},\"pattern\":{\"fillmode\":\"overlay\",\"size\":10,\"solidity\":0.2}},\"type\":\"bar\"}],\"scattergeo\":[{\"type\":\"scattergeo\",\"marker\":{\"colorbar\":{\"outlinewidth\":0,\"ticks\":\"\"}}}],\"scatterpolar\":[{\"type\":\"scatterpolar\",\"marker\":{\"colorbar\":{\"outlinewidth\":0,\"ticks\":\"\"}}}],\"histogram\":[{\"marker\":{\"pattern\":{\"fillmode\":\"overlay\",\"size\":10,\"solidity\":0.2}},\"type\":\"histogram\"}],\"scattergl\":[{\"type\":\"scattergl\",\"marker\":{\"colorbar\":{\"outlinewidth\":0,\"ticks\":\"\"}}}],\"scatter3d\":[{\"type\":\"scatter3d\",\"line\":{\"colorbar\":{\"outlinewidth\":0,\"ticks\":\"\"}},\"marker\":{\"colorbar\":{\"outlinewidth\":0,\"ticks\":\"\"}}}],\"scattermapbox\":[{\"type\":\"scattermapbox\",\"marker\":{\"colorbar\":{\"outlinewidth\":0,\"ticks\":\"\"}}}],\"scatterternary\":[{\"type\":\"scatterternary\",\"marker\":{\"colorbar\":{\"outlinewidth\":0,\"ticks\":\"\"}}}],\"scattercarpet\":[{\"type\":\"scattercarpet\",\"marker\":{\"colorbar\":{\"outlinewidth\":0,\"ticks\":\"\"}}}],\"carpet\":[{\"aaxis\":{\"endlinecolor\":\"#2a3f5f\",\"gridcolor\":\"white\",\"linecolor\":\"white\",\"minorgridcolor\":\"white\",\"startlinecolor\":\"#2a3f5f\"},\"baxis\":{\"endlinecolor\":\"#2a3f5f\",\"gridcolor\":\"white\",\"linecolor\":\"white\",\"minorgridcolor\":\"white\",\"startlinecolor\":\"#2a3f5f\"},\"type\":\"carpet\"}],\"table\":[{\"cells\":{\"fill\":{\"color\":\"#EBF0F8\"},\"line\":{\"color\":\"white\"}},\"header\":{\"fill\":{\"color\":\"#C8D4E3\"},\"line\":{\"color\":\"white\"}},\"type\":\"table\"}],\"barpolar\":[{\"marker\":{\"line\":{\"color\":\"#E5ECF6\",\"width\":0.5},\"pattern\":{\"fillmode\":\"overlay\",\"size\":10,\"solidity\":0.2}},\"type\":\"barpolar\"}],\"pie\":[{\"automargin\":true,\"type\":\"pie\"}]},\"layout\":{\"autotypenumbers\":\"strict\",\"colorway\":[\"#636efa\",\"#EF553B\",\"#00cc96\",\"#ab63fa\",\"#FFA15A\",\"#19d3f3\",\"#FF6692\",\"#B6E880\",\"#FF97FF\",\"#FECB52\"],\"font\":{\"color\":\"#2a3f5f\"},\"hovermode\":\"closest\",\"hoverlabel\":{\"align\":\"left\"},\"paper_bgcolor\":\"white\",\"plot_bgcolor\":\"#E5ECF6\",\"polar\":{\"bgcolor\":\"#E5ECF6\",\"angularaxis\":{\"gridcolor\":\"white\",\"linecolor\":\"white\",\"ticks\":\"\"},\"radialaxis\":{\"gridcolor\":\"white\",\"linecolor\":\"white\",\"ticks\":\"\"}},\"ternary\":{\"bgcolor\":\"#E5ECF6\",\"aaxis\":{\"gridcolor\":\"white\",\"linecolor\":\"white\",\"ticks\":\"\"},\"baxis\":{\"gridcolor\":\"white\",\"linecolor\":\"white\",\"ticks\":\"\"},\"caxis\":{\"gridcolor\":\"white\",\"linecolor\":\"white\",\"ticks\":\"\"}},\"coloraxis\":{\"colorbar\":{\"outlinewidth\":0,\"ticks\":\"\"}},\"colorscale\":{\"sequential\":[[0.0,\"#0d0887\"],[0.1111111111111111,\"#46039f\"],[0.2222222222222222,\"#7201a8\"],[0.3333333333333333,\"#9c179e\"],[0.4444444444444444,\"#bd3786\"],[0.5555555555555556,\"#d8576b\"],[0.6666666666666666,\"#ed7953\"],[0.7777777777777778,\"#fb9f3a\"],[0.8888888888888888,\"#fdca26\"],[1.0,\"#f0f921\"]],\"sequentialminus\":[[0.0,\"#0d0887\"],[0.1111111111111111,\"#46039f\"],[0.2222222222222222,\"#7201a8\"],[0.3333333333333333,\"#9c179e\"],[0.4444444444444444,\"#bd3786\"],[0.5555555555555556,\"#d8576b\"],[0.6666666666666666,\"#ed7953\"],[0.7777777777777778,\"#fb9f3a\"],[0.8888888888888888,\"#fdca26\"],[1.0,\"#f0f921\"]],\"diverging\":[[0,\"#8e0152\"],[0.1,\"#c51b7d\"],[0.2,\"#de77ae\"],[0.3,\"#f1b6da\"],[0.4,\"#fde0ef\"],[0.5,\"#f7f7f7\"],[0.6,\"#e6f5d0\"],[0.7,\"#b8e186\"],[0.8,\"#7fbc41\"],[0.9,\"#4d9221\"],[1,\"#276419\"]]},\"xaxis\":{\"gridcolor\":\"white\",\"linecolor\":\"white\",\"ticks\":\"\",\"title\":{\"standoff\":15},\"zerolinecolor\":\"white\",\"automargin\":true,\"zerolinewidth\":2},\"yaxis\":{\"gridcolor\":\"white\",\"linecolor\":\"white\",\"ticks\":\"\",\"title\":{\"standoff\":15},\"zerolinecolor\":\"white\",\"automargin\":true,\"zerolinewidth\":2},\"scene\":{\"xaxis\":{\"backgroundcolor\":\"#E5ECF6\",\"gridcolor\":\"white\",\"linecolor\":\"white\",\"showbackground\":true,\"ticks\":\"\",\"zerolinecolor\":\"white\",\"gridwidth\":2},\"yaxis\":{\"backgroundcolor\":\"#E5ECF6\",\"gridcolor\":\"white\",\"linecolor\":\"white\",\"showbackground\":true,\"ticks\":\"\",\"zerolinecolor\":\"white\",\"gridwidth\":2},\"zaxis\":{\"backgroundcolor\":\"#E5ECF6\",\"gridcolor\":\"white\",\"linecolor\":\"white\",\"showbackground\":true,\"ticks\":\"\",\"zerolinecolor\":\"white\",\"gridwidth\":2}},\"shapedefaults\":{\"line\":{\"color\":\"#2a3f5f\"}},\"annotationdefaults\":{\"arrowcolor\":\"#2a3f5f\",\"arrowhead\":0,\"arrowwidth\":1},\"geo\":{\"bgcolor\":\"white\",\"landcolor\":\"#E5ECF6\",\"subunitcolor\":\"white\",\"showland\":true,\"showlakes\":true,\"lakecolor\":\"white\"},\"title\":{\"x\":0.05},\"mapbox\":{\"style\":\"light\"}}},\"xaxis\":{\"anchor\":\"y\",\"domain\":[0.0,1.0],\"title\":{\"text\":\"Country\"}},\"yaxis\":{\"anchor\":\"x\",\"domain\":[0.0,1.0],\"title\":{\"text\":\"Laid_Off\"}},\"legend\":{\"tracegroupgap\":0},\"title\":{\"text\":\"Top 5 Countries with Highest Layoffs\"},\"barmode\":\"relative\"},                        {\"responsive\": true}                    ).then(function(){\n",
       "                            \n",
       "var gd = document.getElementById('e113a763-f42a-44d2-9ca9-e1771d07ff6d');\n",
       "var x = new MutationObserver(function (mutations, observer) {{\n",
       "        var display = window.getComputedStyle(gd).display;\n",
       "        if (!display || display === 'none') {{\n",
       "            console.log([gd, 'removed!']);\n",
       "            Plotly.purge(gd);\n",
       "            observer.disconnect();\n",
       "        }}\n",
       "}});\n",
       "\n",
       "// Listen for the removal of the full notebook cells\n",
       "var notebookContainer = gd.closest('#notebook-container');\n",
       "if (notebookContainer) {{\n",
       "    x.observe(notebookContainer, {childList: true});\n",
       "}}\n",
       "\n",
       "// Listen for the clearing of the current output cell\n",
       "var outputEl = gd.closest('.output');\n",
       "if (outputEl) {{\n",
       "    x.observe(outputEl, {childList: true});\n",
       "}}\n",
       "\n",
       "                        })                };                });            </script>        </div>"
      ]
     },
     "metadata": {},
     "output_type": "display_data"
    }
   ],
   "source": [
    "topCountries=df.groupby('Country')['Laid_Off'].sum().nlargest(5)\n",
    "topCountries_df=topCountries.reset_index()\n",
    "fig = px.bar(topCountries_df, x='Country', y='Laid_Off', title='Top 5 Countries with Highest Layoffs')\n",
    "fig.show()"
   ]
  },
  {
   "cell_type": "code",
   "execution_count": 66,
   "id": "2a38e6e9",
   "metadata": {},
   "outputs": [
    {
     "data": {
      "text/html": [
       "<div>\n",
       "<style scoped>\n",
       "    .dataframe tbody tr th:only-of-type {\n",
       "        vertical-align: middle;\n",
       "    }\n",
       "\n",
       "    .dataframe tbody tr th {\n",
       "        vertical-align: top;\n",
       "    }\n",
       "\n",
       "    .dataframe thead th {\n",
       "        text-align: right;\n",
       "    }\n",
       "</style>\n",
       "<table border=\"1\" class=\"dataframe\">\n",
       "  <thead>\n",
       "    <tr style=\"text-align: right;\">\n",
       "      <th></th>\n",
       "      <th></th>\n",
       "      <th>Company</th>\n",
       "      <th>Location_HQ</th>\n",
       "      <th>Country</th>\n",
       "      <th>Continent</th>\n",
       "      <th>Laid_Off</th>\n",
       "      <th>Date_layoffs</th>\n",
       "      <th>Percentage</th>\n",
       "      <th>Company_Size_before_Layoffs</th>\n",
       "      <th>Company_Size_after_layoffs</th>\n",
       "      <th>Industry</th>\n",
       "      <th>Stage</th>\n",
       "      <th>Money_Raised_in_$_mil</th>\n",
       "      <th>Year</th>\n",
       "      <th>lat</th>\n",
       "      <th>lng</th>\n",
       "    </tr>\n",
       "    <tr>\n",
       "      <th>Country</th>\n",
       "      <th></th>\n",
       "      <th></th>\n",
       "      <th></th>\n",
       "      <th></th>\n",
       "      <th></th>\n",
       "      <th></th>\n",
       "      <th></th>\n",
       "      <th></th>\n",
       "      <th></th>\n",
       "      <th></th>\n",
       "      <th></th>\n",
       "      <th></th>\n",
       "      <th></th>\n",
       "      <th></th>\n",
       "      <th></th>\n",
       "      <th></th>\n",
       "    </tr>\n",
       "  </thead>\n",
       "  <tbody>\n",
       "    <tr>\n",
       "      <th rowspan=\"3\" valign=\"top\">Argentina</th>\n",
       "      <th>0</th>\n",
       "      <td>Ualá</td>\n",
       "      <td>Buenos Aires</td>\n",
       "      <td>Argentina</td>\n",
       "      <td>South America</td>\n",
       "      <td>53</td>\n",
       "      <td>2022-11-30</td>\n",
       "      <td>3.0</td>\n",
       "      <td>1767</td>\n",
       "      <td>1714</td>\n",
       "      <td>Finance</td>\n",
       "      <td>Series D</td>\n",
       "      <td>$544</td>\n",
       "      <td>2022</td>\n",
       "      <td>-34.61315</td>\n",
       "      <td>-58.37723</td>\n",
       "    </tr>\n",
       "    <tr>\n",
       "      <th>1</th>\n",
       "      <td>Lemon</td>\n",
       "      <td>Buenos Aires</td>\n",
       "      <td>Argentina</td>\n",
       "      <td>South America</td>\n",
       "      <td>100</td>\n",
       "      <td>2022-11-24</td>\n",
       "      <td>38.0</td>\n",
       "      <td>263</td>\n",
       "      <td>163</td>\n",
       "      <td>Crypto</td>\n",
       "      <td>Series A</td>\n",
       "      <td>$17</td>\n",
       "      <td>2022</td>\n",
       "      <td>-34.61315</td>\n",
       "      <td>-58.37723</td>\n",
       "    </tr>\n",
       "    <tr>\n",
       "      <th>2</th>\n",
       "      <td>Buenbit</td>\n",
       "      <td>Buenos Aires</td>\n",
       "      <td>Argentina</td>\n",
       "      <td>South America</td>\n",
       "      <td>80</td>\n",
       "      <td>2022-05-23</td>\n",
       "      <td>45.0</td>\n",
       "      <td>178</td>\n",
       "      <td>98</td>\n",
       "      <td>Crypto</td>\n",
       "      <td>Series A</td>\n",
       "      <td>$11</td>\n",
       "      <td>2022</td>\n",
       "      <td>-34.61315</td>\n",
       "      <td>-58.37723</td>\n",
       "    </tr>\n",
       "    <tr>\n",
       "      <th rowspan=\"7\" valign=\"top\">Australia</th>\n",
       "      <th>0</th>\n",
       "      <td>Zip</td>\n",
       "      <td>Sydney</td>\n",
       "      <td>Australia</td>\n",
       "      <td>Australia</td>\n",
       "      <td>300</td>\n",
       "      <td>2023-07-02</td>\n",
       "      <td>20.0</td>\n",
       "      <td>1500</td>\n",
       "      <td>1200</td>\n",
       "      <td>Finance</td>\n",
       "      <td>Post-IPO</td>\n",
       "      <td>$896</td>\n",
       "      <td>2023</td>\n",
       "      <td>-33.86785</td>\n",
       "      <td>151.20732</td>\n",
       "    </tr>\n",
       "    <tr>\n",
       "      <th>1</th>\n",
       "      <td>Linktree</td>\n",
       "      <td>Melbourne</td>\n",
       "      <td>Australia</td>\n",
       "      <td>Australia</td>\n",
       "      <td>60</td>\n",
       "      <td>2023-06-06</td>\n",
       "      <td>27.0</td>\n",
       "      <td>222</td>\n",
       "      <td>162</td>\n",
       "      <td>Consumer</td>\n",
       "      <td>Unknown</td>\n",
       "      <td>$165</td>\n",
       "      <td>2023</td>\n",
       "      <td>-37.81400</td>\n",
       "      <td>144.96332</td>\n",
       "    </tr>\n",
       "    <tr>\n",
       "      <th>2</th>\n",
       "      <td>Redbubble</td>\n",
       "      <td>Melbourne</td>\n",
       "      <td>Australia</td>\n",
       "      <td>Australia</td>\n",
       "      <td>70</td>\n",
       "      <td>2023-05-10</td>\n",
       "      <td>23.0</td>\n",
       "      <td>304</td>\n",
       "      <td>234</td>\n",
       "      <td>Retail</td>\n",
       "      <td>Post-IPO</td>\n",
       "      <td>$55</td>\n",
       "      <td>2023</td>\n",
       "      <td>-37.81400</td>\n",
       "      <td>144.96332</td>\n",
       "    </tr>\n",
       "    <tr>\n",
       "      <th>3</th>\n",
       "      <td>Zoomo</td>\n",
       "      <td>Sydney</td>\n",
       "      <td>Australia</td>\n",
       "      <td>Australia</td>\n",
       "      <td>27</td>\n",
       "      <td>2023-05-02</td>\n",
       "      <td>8.0</td>\n",
       "      <td>338</td>\n",
       "      <td>311</td>\n",
       "      <td>Transportation</td>\n",
       "      <td>Series B</td>\n",
       "      <td>$105</td>\n",
       "      <td>2023</td>\n",
       "      <td>-33.86785</td>\n",
       "      <td>151.20732</td>\n",
       "    </tr>\n",
       "    <tr>\n",
       "      <th>4</th>\n",
       "      <td>Megaport</td>\n",
       "      <td>Brisbane</td>\n",
       "      <td>Australia</td>\n",
       "      <td>Australia</td>\n",
       "      <td>50</td>\n",
       "      <td>2023-04-27</td>\n",
       "      <td>16.0</td>\n",
       "      <td>313</td>\n",
       "      <td>263</td>\n",
       "      <td>Infrastructure</td>\n",
       "      <td>Post-IPO</td>\n",
       "      <td>$98</td>\n",
       "      <td>2023</td>\n",
       "      <td>-27.46794</td>\n",
       "      <td>153.02809</td>\n",
       "    </tr>\n",
       "    <tr>\n",
       "      <th>5</th>\n",
       "      <td>Airtasker</td>\n",
       "      <td>Sydney</td>\n",
       "      <td>Australia</td>\n",
       "      <td>Australia</td>\n",
       "      <td>45</td>\n",
       "      <td>2023-04-27</td>\n",
       "      <td>20.0</td>\n",
       "      <td>225</td>\n",
       "      <td>180</td>\n",
       "      <td>Retail</td>\n",
       "      <td>Series C</td>\n",
       "      <td>$26</td>\n",
       "      <td>2023</td>\n",
       "      <td>-33.86785</td>\n",
       "      <td>151.20732</td>\n",
       "    </tr>\n",
       "    <tr>\n",
       "      <th>6</th>\n",
       "      <td>Culture Amp</td>\n",
       "      <td>Melbourne</td>\n",
       "      <td>Australia</td>\n",
       "      <td>Australia</td>\n",
       "      <td>90</td>\n",
       "      <td>2023-04-18</td>\n",
       "      <td>9.0</td>\n",
       "      <td>1000</td>\n",
       "      <td>910</td>\n",
       "      <td>HR</td>\n",
       "      <td>Series F</td>\n",
       "      <td>$257</td>\n",
       "      <td>2023</td>\n",
       "      <td>-37.81400</td>\n",
       "      <td>144.96332</td>\n",
       "    </tr>\n",
       "  </tbody>\n",
       "</table>\n",
       "</div>"
      ],
      "text/plain": [
       "                 Company   Location_HQ    Country      Continent  Laid_Off  \\\n",
       "Country                                                                      \n",
       "Argentina 0         Ualá  Buenos Aires  Argentina  South America        53   \n",
       "          1        Lemon  Buenos Aires  Argentina  South America       100   \n",
       "          2      Buenbit  Buenos Aires  Argentina  South America        80   \n",
       "Australia 0          Zip        Sydney  Australia      Australia       300   \n",
       "          1     Linktree     Melbourne  Australia      Australia        60   \n",
       "          2    Redbubble     Melbourne  Australia      Australia        70   \n",
       "          3        Zoomo        Sydney  Australia      Australia        27   \n",
       "          4     Megaport      Brisbane  Australia      Australia        50   \n",
       "          5    Airtasker        Sydney  Australia      Australia        45   \n",
       "          6  Culture Amp     Melbourne  Australia      Australia        90   \n",
       "\n",
       "            Date_layoffs  Percentage  Company_Size_before_Layoffs  \\\n",
       "Country                                                             \n",
       "Argentina 0   2022-11-30         3.0                         1767   \n",
       "          1   2022-11-24        38.0                          263   \n",
       "          2   2022-05-23        45.0                          178   \n",
       "Australia 0   2023-07-02        20.0                         1500   \n",
       "          1   2023-06-06        27.0                          222   \n",
       "          2   2023-05-10        23.0                          304   \n",
       "          3   2023-05-02         8.0                          338   \n",
       "          4   2023-04-27        16.0                          313   \n",
       "          5   2023-04-27        20.0                          225   \n",
       "          6   2023-04-18         9.0                         1000   \n",
       "\n",
       "             Company_Size_after_layoffs        Industry     Stage  \\\n",
       "Country                                                             \n",
       "Argentina 0                        1714         Finance  Series D   \n",
       "          1                         163          Crypto  Series A   \n",
       "          2                          98          Crypto  Series A   \n",
       "Australia 0                        1200         Finance  Post-IPO   \n",
       "          1                         162        Consumer   Unknown   \n",
       "          2                         234          Retail  Post-IPO   \n",
       "          3                         311  Transportation  Series B   \n",
       "          4                         263  Infrastructure  Post-IPO   \n",
       "          5                         180          Retail  Series C   \n",
       "          6                         910              HR  Series F   \n",
       "\n",
       "            Money_Raised_in_$_mil  Year       lat        lng  \n",
       "Country                                                       \n",
       "Argentina 0                  $544  2022 -34.61315  -58.37723  \n",
       "          1                   $17  2022 -34.61315  -58.37723  \n",
       "          2                   $11  2022 -34.61315  -58.37723  \n",
       "Australia 0                  $896  2023 -33.86785  151.20732  \n",
       "          1                  $165  2023 -37.81400  144.96332  \n",
       "          2                   $55  2023 -37.81400  144.96332  \n",
       "          3                  $105  2023 -33.86785  151.20732  \n",
       "          4                   $98  2023 -27.46794  153.02809  \n",
       "          5                   $26  2023 -33.86785  151.20732  \n",
       "          6                  $257  2023 -37.81400  144.96332  "
      ]
     },
     "execution_count": 66,
     "metadata": {},
     "output_type": "execute_result"
    }
   ],
   "source": [
    "grouped_data = df.groupby('Country').apply(lambda x : x.reset_index(drop=True))\n",
    "grouped_data.head(10)"
   ]
  },
  {
   "cell_type": "code",
   "execution_count": 67,
   "id": "f6203314",
   "metadata": {},
   "outputs": [],
   "source": [
    "usa_data=grouped_data.loc['USA']\n",
    "india_data=grouped_data.loc['India']\n",
    "germany_data=grouped_data.loc['Germany']\n",
    "sweden_data = grouped_data.loc['Sweden']\n",
    "uk_data = grouped_data.loc['United Kingdom']"
   ]
  },
  {
   "cell_type": "code",
   "execution_count": 70,
   "id": "89f9491e",
   "metadata": {},
   "outputs": [],
   "source": [
    "def total_layOfss_overYears(df):\n",
    "    return df.groupby('Year')['Laid_Off'].sum()\n",
    "\n",
    "def average_layOfss_overYears(df):\n",
    "    return df.groupby('Year')['Laid_Off'].mean()\n",
    "\n",
    "def percentage_change_in_layOffs(df):\n",
    "    return df.groupby('Year')['Laid_Off'].pct_change() * 100\n",
    "\n",
    "def largest_layoffs_events(df, n=5, by='percentage'):\n",
    "    if by == 'percentage':\n",
    "        return df.nlargest(n, 'Percentage')\n",
    "    elif by == 'absolute':\n",
    "        return df.nlargest(n, 'Laid_Off')\n",
    "    \n",
    "def total_layOfss_byIndustry(df):\n",
    "    return df.groupby('Industry')['Laid_Off'].sum().sort_values(ascending=False)"
   ]
  },
  {
   "cell_type": "code",
   "execution_count": 71,
   "id": "745b52a5",
   "metadata": {
    "scrolled": false
   },
   "outputs": [
    {
     "name": "stdout",
     "output_type": "stream",
     "text": [
      "Insights for USA:\n",
      "Total layoffs over the years:\n",
      "Year\n",
      "2020     44217\n",
      "2021      6137\n",
      "2022     92755\n",
      "2023    126822\n",
      "2024      4050\n",
      "Name: Laid_Off, dtype: int64\n",
      "\n",
      "Average layoffs per year:\n",
      "Year\n",
      "2020    185.785714\n",
      "2021    681.888889\n",
      "2022    270.422741\n",
      "2023    418.554455\n",
      "2024    337.500000\n",
      "Name: Laid_Off, dtype: float64\n",
      "\n",
      "Percentage change in layoffs over the years:\n",
      "0               NaN\n",
      "1        157.142857\n",
      "2        -85.555556\n",
      "3         80.769231\n",
      "4         -4.255319\n",
      "           ...     \n",
      "900      -41.269841\n",
      "901      -72.972973\n",
      "902    17900.000000\n",
      "903      -97.222222\n",
      "904      300.000000\n",
      "Name: Laid_Off, Length: 905, dtype: float64\n",
      "\n",
      "Top 5 largest layoffs events:\n",
      "          Company    Location_HQ Country      Continent  Laid_Off  \\\n",
      "6          Zulily        Seattle     USA  North America       839   \n",
      "20         Convoy        Seattle     USA  North America       500   \n",
      "93        Bitwise         Fresno     USA  North America       900   \n",
      "396  Fifth Season     Pittsburgh     USA  North America       100   \n",
      "416      Playdots  New York City     USA  North America        65   \n",
      "\n",
      "    Date_layoffs  Percentage  Company_Size_before_Layoffs  \\\n",
      "6     2023-12-08       100.0                          839   \n",
      "20    2023-10-19       100.0                          500   \n",
      "93    2023-06-14       100.0                          900   \n",
      "396   2022-10-28       100.0                          100   \n",
      "416   2022-10-13       100.0                           65   \n",
      "\n",
      "     Company_Size_after_layoffs   Industry     Stage Money_Raised_in_$_mil  \\\n",
      "6                             0     Retail  Acquired                  $194   \n",
      "20                            0  Logistics  Series E                 $1100   \n",
      "93                            0     Crypto  Series B                   $84   \n",
      "396                           0       Food  Series B                   $35   \n",
      "416                           0   Consumer  Acquired                   $10   \n",
      "\n",
      "     Year       lat        lng  \n",
      "6    2023  47.60621 -122.33207  \n",
      "20   2023  47.60621 -122.33207  \n",
      "93   2023  36.74773 -119.77237  \n",
      "396  2022  40.44062  -79.99589  \n",
      "416  2022  40.71427  -74.00597  \n",
      "\n",
      "Layoffs by industry:\n",
      "Industry\n",
      "Consumer          50217\n",
      "Retail            41354\n",
      "Other             23994\n",
      "Transportation    23270\n",
      "Finance           15446\n",
      "Real Estate       13511\n",
      "Sales             12644\n",
      "Healthcare        10167\n",
      "Food               9700\n",
      "Travel             7992\n",
      "Hardware           7340\n",
      "Fitness            6876\n",
      "Crypto             5756\n",
      "Infrastructure     5755\n",
      "Security           5307\n",
      "Marketing          4950\n",
      "Data               4499\n",
      "HR                 4346\n",
      "Recruiting         4224\n",
      "Construction       3270\n",
      "Media              3014\n",
      "Logistics          2991\n",
      "Support            1920\n",
      "Education          1820\n",
      "Product            1220\n",
      "Manufacturing       790\n",
      "Legal               626\n",
      "Energy              480\n",
      "Aerospace           332\n",
      "AI                  170\n",
      "Name: Laid_Off, dtype: int64\n",
      "\n",
      "\n",
      "\n",
      "Insights for India:\n",
      "Total layoffs over the years:\n",
      "Year\n",
      "2020    10272\n",
      "2021      200\n",
      "2022     8861\n",
      "2023     6032\n",
      "2024      125\n",
      "Name: Laid_Off, dtype: int64\n",
      "\n",
      "Average layoffs per year:\n",
      "Year\n",
      "2020    410.88000\n",
      "2021    200.00000\n",
      "2022    285.83871\n",
      "2023    140.27907\n",
      "2024    125.00000\n",
      "Name: Laid_Off, dtype: float64\n",
      "\n",
      "Percentage change in layoffs over the years:\n",
      "0             NaN\n",
      "1      -50.000000\n",
      "2       50.000000\n",
      "3      -73.333333\n",
      "4      200.000000\n",
      "          ...    \n",
      "96     -97.000000\n",
      "97     650.000000\n",
      "98      77.777778\n",
      "99     212.500000\n",
      "100           NaN\n",
      "Name: Laid_Off, Length: 101, dtype: float64\n",
      "\n",
      "Top 5 largest layoffs events:\n",
      "      Company Location_HQ Country Continent  Laid_Off Date_layoffs  \\\n",
      "2   ZestMoney   Bengaluru   India      Asia       150   2023-12-05   \n",
      "14   FrontRow   Bengaluru   India      Asia         4   2023-07-10   \n",
      "55  Crejo.Fun   Bengaluru   India      Asia       170   2022-06-30   \n",
      "65      Udayy    Gurugram   India      Asia       100   2022-06-01   \n",
      "17   FrontRow   Bengaluru   India      Asia        39   2023-06-15   \n",
      "\n",
      "    Percentage  Company_Size_before_Layoffs  Company_Size_after_layoffs  \\\n",
      "2        100.0                          150                           0   \n",
      "14       100.0                            4                           0   \n",
      "55       100.0                          170                           0   \n",
      "65       100.0                          100                           0   \n",
      "17        90.0                           43                           4   \n",
      "\n",
      "     Industry     Stage Money_Raised_in_$_mil  Year       lat       lng  \n",
      "2     Finance  Series C                  $120  2023  12.97194  77.59369  \n",
      "14  Education  Series A                   $17  2023  12.97194  77.59369  \n",
      "55  Education      Seed                    $3  2022  12.97194  77.59369  \n",
      "65  Education      Seed                    $2  2022  28.46010  77.02635  \n",
      "17  Education  Series A                   $17  2023  12.97194  77.59369  \n",
      "\n",
      "Layoffs by industry:\n",
      "Industry\n",
      "Education         5457\n",
      "Food              4770\n",
      "Transportation    3310\n",
      "Finance           3195\n",
      "Retail            2213\n",
      "Healthcare        1486\n",
      "Consumer          1288\n",
      "Travel            1100\n",
      "Fitness            830\n",
      "Other              500\n",
      "Marketing          361\n",
      "Logistics          250\n",
      "Media              248\n",
      "Support            142\n",
      "Construction       140\n",
      "Real Estate        100\n",
      "Crypto             100\n",
      "Name: Laid_Off, dtype: int64\n",
      "\n",
      "\n",
      "\n",
      "Insights for Germany:\n",
      "Total layoffs over the years:\n",
      "Year\n",
      "2020      331\n",
      "2021      387\n",
      "2022     2508\n",
      "2023    12118\n",
      "2024       80\n",
      "Name: Laid_Off, dtype: int64\n",
      "\n",
      "Average layoffs per year:\n",
      "Year\n",
      "2020     66.200000\n",
      "2021    193.500000\n",
      "2022     89.571429\n",
      "2023    807.866667\n",
      "2024     80.000000\n",
      "Name: Laid_Off, dtype: float64\n",
      "\n",
      "Percentage change in layoffs over the years:\n",
      "0              NaN\n",
      "1       -40.000000\n",
      "2       400.000000\n",
      "3       -16.666667\n",
      "4       -29.000000\n",
      "5     11167.605634\n",
      "6       -98.125000\n",
      "7       -60.000000\n",
      "8       233.333333\n",
      "9       -22.000000\n",
      "10      -58.333333\n",
      "11     4515.384615\n",
      "12      -97.333333\n",
      "13      -73.750000\n",
      "14       47.619048\n",
      "15             NaN\n",
      "16      100.000000\n",
      "17      -66.666667\n",
      "18      210.000000\n",
      "19      -35.483871\n",
      "20     1150.000000\n",
      "21      -95.000000\n",
      "22      100.000000\n",
      "23       20.000000\n",
      "24      233.333333\n",
      "25      -50.000000\n",
      "26        0.000000\n",
      "27      -57.000000\n",
      "28       62.790698\n",
      "29      -15.714286\n",
      "30      -15.254237\n",
      "31       10.000000\n",
      "32       81.818182\n",
      "33       80.000000\n",
      "34      -44.444444\n",
      "35      -82.000000\n",
      "36      -22.222222\n",
      "37       28.571429\n",
      "38      455.555556\n",
      "39      -50.000000\n",
      "40      -10.000000\n",
      "41      566.666667\n",
      "42      -80.333333\n",
      "43             NaN\n",
      "44      -71.000000\n",
      "45             NaN\n",
      "46      -16.666667\n",
      "47      -80.000000\n",
      "48      566.666667\n",
      "49      -49.000000\n",
      "50             NaN\n",
      "Name: Laid_Off, dtype: float64\n",
      "\n",
      "Top 5 largest layoffs events:\n",
      "     Company Location_HQ  Country Continent  Laid_Off Date_layoffs  \\\n",
      "7      Dropp      Berlin  Germany    Europe        60   2023-02-14   \n",
      "24  Planetly      Berlin  Germany    Europe       200   2022-11-04   \n",
      "46  Zeitgold      Berlin  Germany    Europe        75   2020-07-27   \n",
      "50     Pitch      Berlin  Germany    Europe        80   2024-08-01   \n",
      "20    Infarm      Berlin  Germany    Europe       500   2022-11-28   \n",
      "\n",
      "    Percentage  Company_Size_before_Layoffs  Company_Size_after_layoffs  \\\n",
      "7        100.0                           60                           0   \n",
      "24       100.0                          200                           0   \n",
      "46        72.0                          104                          29   \n",
      "50        67.0                          119                          39   \n",
      "20        50.0                         1000                         500   \n",
      "\n",
      "   Industry     Stage Money_Raised_in_$_mil  Year       lat       lng  \n",
      "7    Retail   Unknown                    $2  2023  52.52437  13.41053  \n",
      "24    Other  Acquired                    $5  2022  52.52437  13.41053  \n",
      "46  Finance  Series B                   $60  2020  52.52437  13.41053  \n",
      "50    Other  Series B                  $138  2024  52.52437  13.41053  \n",
      "20    Other  Series D                  $604  2022  52.52437  13.41053  \n",
      "\n",
      "Layoffs by industry:\n",
      "Industry\n",
      "Food              9043\n",
      "Other             3941\n",
      "Finance            718\n",
      "Marketing          271\n",
      "Retail             265\n",
      "Transportation     260\n",
      "Data               259\n",
      "Fitness            155\n",
      "Product            141\n",
      "Travel             105\n",
      "Media               75\n",
      "HR                  60\n",
      "Logistics           60\n",
      "Real Estate         40\n",
      "Healthcare          31\n",
      "Name: Laid_Off, dtype: int64\n",
      "\n",
      "\n",
      "\n",
      "Insights for Sweden:\n",
      "Total layoffs over the years:\n",
      "Year\n",
      "2022     1647\n",
      "2023    10800\n",
      "Name: Laid_Off, dtype: int64\n",
      "\n",
      "Average layoffs per year:\n",
      "Year\n",
      "2022     164.7\n",
      "2023    2700.0\n",
      "Name: Laid_Off, dtype: float64\n",
      "\n",
      "Percentage change in layoffs over the years:\n",
      "0             NaN\n",
      "1      -86.666667\n",
      "2     4150.000000\n",
      "3      -92.941176\n",
      "4             NaN\n",
      "5      -44.615385\n",
      "6       -2.777778\n",
      "7      328.571429\n",
      "8      -76.666667\n",
      "9      -50.000000\n",
      "10     100.000000\n",
      "11     900.000000\n",
      "12     -85.714286\n",
      "13       0.000000\n",
      "Name: Laid_Off, dtype: float64\n",
      "\n",
      "Top 5 largest layoffs events:\n",
      "   Company Location_HQ Country Continent  Laid_Off Date_layoffs  Percentage  \\\n",
      "5     Juni  Gothenburg  Sweden    Europe        72   2022-11-17        33.0   \n",
      "6      Oda        Oslo  Sweden    Europe        70   2022-11-01        18.0   \n",
      "0  Spotify   Stockholm  Sweden    Europe      1500   2023-12-04        17.0   \n",
      "8    Acast   Stockholm  Sweden    Europe        70   2022-09-15        15.0   \n",
      "4      Voi   Stockholm  Sweden    Europe       130   2022-12-07        13.0   \n",
      "\n",
      "   Company_Size_before_Layoffs  Company_Size_after_layoffs        Industry  \\\n",
      "5                          218                         146         Finance   \n",
      "6                          389                         319            Food   \n",
      "0                         9200                        7700           Media   \n",
      "8                          467                         397           Media   \n",
      "4                         1000                         870  Transportation   \n",
      "\n",
      "      Stage Money_Raised_in_$_mil  Year       lat       lng  \n",
      "5   Unknown                  $281  2022  57.70716  11.96679  \n",
      "6   Unknown                  $377  2022  59.91273  10.74609  \n",
      "0  Post-IPO                 $2100  2023  59.32938  18.06871  \n",
      "8  Post-IPO                  $126  2022  59.32938  18.06871  \n",
      "4  Series D                  $515  2022  59.32938  18.06871  \n",
      "\n",
      "Layoffs by industry:\n",
      "Industry\n",
      "Other             8500\n",
      "Media             2470\n",
      "Finance            772\n",
      "Healthcare         400\n",
      "Transportation     165\n",
      "Food                70\n",
      "Retail              70\n",
      "Name: Laid_Off, dtype: int64\n",
      "\n",
      "\n",
      "\n",
      "Insights for United Kingdom:\n",
      "Total layoffs over the years:\n",
      "Year\n",
      "2020    1478\n",
      "2022    3451\n",
      "2023    6986\n",
      "Name: Laid_Off, dtype: int64\n",
      "\n",
      "Average layoffs per year:\n",
      "Year\n",
      "2020    164.222222\n",
      "2022    156.863636\n",
      "2023    388.111111\n",
      "Name: Laid_Off, dtype: float64\n",
      "\n",
      "Percentage change in layoffs over the years:\n",
      "0             NaN\n",
      "1      566.666667\n",
      "2      -77.500000\n",
      "3     5455.555556\n",
      "4      -92.000000\n",
      "5      400.000000\n",
      "6      -85.000000\n",
      "7      180.000000\n",
      "8      -80.952381\n",
      "9      -50.000000\n",
      "10     775.000000\n",
      "11     128.571429\n",
      "12     -96.875000\n",
      "13    1220.000000\n",
      "14      36.363636\n",
      "15     -54.222222\n",
      "16     -46.601942\n",
      "17     -54.545455\n",
      "18            NaN\n",
      "19     -64.705882\n",
      "20      66.666667\n",
      "21      40.000000\n",
      "22     -71.428571\n",
      "23     100.000000\n",
      "24     150.000000\n",
      "25     -62.000000\n",
      "26     -21.052632\n",
      "27     400.000000\n",
      "28     -84.000000\n",
      "29     254.166667\n",
      "30     464.705882\n",
      "31     -49.583333\n",
      "32     -81.404959\n",
      "33    1566.666667\n",
      "34       0.000000\n",
      "35     -91.333333\n",
      "36     -53.846154\n",
      "37      -3.333333\n",
      "38     589.655172\n",
      "39     -31.000000\n",
      "40            NaN\n",
      "41    3650.000000\n",
      "42     -60.000000\n",
      "43     -42.500000\n",
      "44     -13.043478\n",
      "45      58.333333\n",
      "46     286.315789\n",
      "47     -97.820163\n",
      "48    5537.500000\n",
      "Name: Laid_Off, dtype: float64\n",
      "\n",
      "Top 5 largest layoffs events:\n",
      "        Company Location_HQ         Country Continent  Laid_Off Date_layoffs  \\\n",
      "12      Glisser      London  United Kingdom    Europe        25   2023-01-26   \n",
      "15  Britishvolt      London  United Kingdom    Europe       206   2023-01-17   \n",
      "48       OneWeb      London  United Kingdom    Europe       451   2020-03-27   \n",
      "40        Docly      London  United Kingdom    Europe         8   2020-08-19   \n",
      "11      Arrival      London  United Kingdom    Europe       800   2023-01-30   \n",
      "\n",
      "    Percentage  Company_Size_before_Layoffs  Company_Size_after_layoffs  \\\n",
      "12       100.0                           25                           0   \n",
      "15       100.0                          206                           0   \n",
      "48        85.0                          531                          80   \n",
      "40        80.0                           10                           2   \n",
      "11        50.0                         1600                         800   \n",
      "\n",
      "          Industry     Stage Money_Raised_in_$_mil  Year       lat      lng  \n",
      "12          Travel   Unknown                    $1  2023  51.50853 -0.12574  \n",
      "15  Transportation   Unknown                 $2400  2023  51.50853 -0.12574  \n",
      "48       Aerospace   Unknown                  3000  2020  51.50853 -0.12574  \n",
      "40      Healthcare      Seed                   $16  2020  51.50853 -0.12574  \n",
      "11  Transportation  Post-IPO                  $629  2023  51.50853 -0.12574  \n",
      "\n",
      "Layoffs by industry:\n",
      "Industry\n",
      "Transportation    3296\n",
      "Food              3217\n",
      "Finance           2229\n",
      "Security           708\n",
      "Travel             624\n",
      "Crypto             590\n",
      "Aerospace          451\n",
      "Other              380\n",
      "Media              145\n",
      "Marketing          118\n",
      "Retail             104\n",
      "Healthcare          53\n",
      "Name: Laid_Off, dtype: int64\n",
      "\n",
      "\n",
      "\n"
     ]
    }
   ],
   "source": [
    "for country, country_data in [('USA', usa_data), ('India', india_data), ('Germany', germany_data), ('Sweden', sweden_data), ('United Kingdom', uk_data)]:\n",
    "    print(f\"Insights for {country}:\")\n",
    "    print(\"Total layoffs over the years:\")\n",
    "    print(total_layOfss_overYears(country_data))\n",
    "    print(\"\\nAverage layoffs per year:\")\n",
    "    print(average_layOfss_overYears(country_data))\n",
    "    print(\"\\nPercentage change in layoffs over the years:\")\n",
    "    print(percentage_change_in_layOffs(country_data))\n",
    "    print(\"\\nTop 5 largest layoffs events:\")\n",
    "    print(largest_layoffs_events(country_data))\n",
    "    print(\"\\nLayoffs by industry:\")\n",
    "    print(total_layOfss_byIndustry(country_data))\n",
    "    print(\"\\n\\n\")"
   ]
  },
  {
   "cell_type": "markdown",
   "id": "4c7ed3be",
   "metadata": {},
   "source": [
    "## Layoff Insights report:\n",
    "### 1. USA:\n",
    "   #### Total layoffs over the years:\n",
    "   - The quantity of layoffs in the United States has exhibited substantial fluctuations across the years, reaching its peak in 2023 with 126,822 layoffs. This indicates a possible lack of stability in the job market during that specific timeframe\n",
    "   #### Average layoffs per year:\n",
    "   - The average annual layoffs display a diverse trend, signaling fluctuations in employment stability over time\n",
    "   #### Percentage Change in Layoffs Over the Years:\n",
    "   - The percentage change in layoffs has shown considerable fluctuations from year to year, suggesting periods of significant shifts in the job market.\n",
    "   #### Top 5 Largest Layoffs Events:\n",
    "   1. Zulily - 839 layoffs\n",
    "   2. Convoy - 500 layoffs\n",
    "   3. Bitwise - 900 layoffs\n",
    "   4. Fifth Season - 100 layoffs\n",
    "   5. Playdots - 65 layoffs\n",
    "   #### Layoffs by Industry:\n",
    "   - The most affected industries include Consumer, Retail, Finance, Transportation, and Real Estate. Understanding layoffs by industry can help identify sectors facing the most challenges.\n",
    "### 2. India:\n",
    "   #### Total layoffs over the years:\n",
    "   - India has a noticable increase from 2020 to 2020 and a decrace in 2023. The low layoff in 2021 suggests relative stability compared to other years.\n",
    "   #### Average layoffs per year:\n",
    "   - The average annual layoffs exhibit fluctuations, signifying varying levels of employment stability over time.\n",
    "   #### Percentage Change in Layoffs Over the Years:\n",
    "   - The percentage changes in layoffs highlight periods of both growth and decline in job market stability, with particularly sharp shifts in certain year.\n",
    "   #### Top 5 Largest Layoffs Events:\n",
    "   1. ZestMoney - 150 layoffs\n",
    "   2. FrontRow - 4 layoffs\n",
    "   3. Crejo.Fun - 170 layoffs\n",
    "   4. Udayy - 100 layoffs\n",
    "   5. FrontRow - 39 layoffs\n",
    "   #### Layoffs by Industry:\n",
    "   - The most affected industries include Education, Food, Finance, Transportation, and Marketing. Understanding layoffs by industry can help identify sectors facing the most challenges.\n",
    "### 3. Germany:\n",
    "   #### Total layoffs over the years:\n",
    "   - Germany observed a noteable surge in layoffs in 2023, reaching 12,118, suggesting potential economic challenges or significant restructuring within industries.\n",
    "   #### Average layoffs per year:\n",
    "   - The average annual layoffs display fluctuations, with a notable increase observed in 2023. This could potentially indicate a period of economic uncertainty.\n",
    "   #### Percentage Change in Layoffs Over the Years:\n",
    "   - Percentage changes in layoffs exhibit substantial fluctuations, suggesting volatile shifts in the job market over time.\n",
    "   #### Top 5 Largest Layoffs Events:\n",
    "   1. Dropp - 60 layoffs\n",
    "   2. Planetly - 200 layoffs\n",
    "   3. Zeitgold - 75 layoffs\n",
    "   4. Pitch - 80 layoffs\n",
    "   5. Infarm - 500 layoffs\n",
    "   #### Layoffs by Industry:\n",
    "   - Industries such as Finance, Food, Healthcare, Media, and Transportation are among the most affected, indicating potential areas of concern for employment stability.\n",
    "### 4. Sweden:\n",
    "   #### Total layoffs over the years:\n",
    "   - Sweden witnessed a notable rise in layoffs from 2022 to 2023, indicating possible economic challenges or issues specific to certain industries.\n",
    "   #### Average layoffs per year:\n",
    "   - The average number of layoffs per year exhibited a significant increase in 2023, signaling a period of economic instability.\n",
    "   #### Percentage Change in Layoffs Over the Years:\n",
    "   - The percentage changes in layoffs show notable fluctuations, indicating varying levels of job market stability over time.\n",
    "   #### Top 5 Largest Layoffs Events:\n",
    "   1. Juni - 72 layoffs\n",
    "   2. Oda - 70 layoffs\n",
    "   3. Spotify - 1500 layoffs\n",
    "   4. Acast - 70 layoffs\n",
    "   5. Voi - 130 layoffs\n",
    "   #### Layoffs by Industry:\n",
    "   - Finance, Food, Healthcare, Media, and Transportation are among the most affected industries, highlighting areas that may require targeted interventions or support.\n",
    "### 5. United Kingdom:\n",
    "   #### Total layoffs over the years:\n",
    "   - The United Kingdom experienced fluctuations in layoffs over the years, with notable peaks in 2020 and 2023. These peaks suggest potential economic challenges or issues specific to certain industries.\n",
    "   #### Average layoffs per year:\n",
    "   - Average layoffs per year show variations, with a notable increase observed in 2023, suggesting potential economic instability.\n",
    "   #### Percentage Change in Layoffs Over the Years:\n",
    "   - Percentage changes in layoffs exhibit significant fluctuations, indicating varying levels of job market stability over time..\n",
    "   #### Top 5 Largest Layoffs Events:\n",
    "   1. Glisser - 25 layoffs\n",
    "   2. Britishvolt - 206 layoffs\n",
    "   3. OneWeb - 451 layoffs\n",
    "   4. Docly - 8 layoffs\n",
    "   5. Arrival - 800 layoffs\n",
    "   #### Layoffs by Industry:\n",
    "   - Aerospace, Crypto, Finance, Food, Healthcare, Marketing, Media, and Transportation are among the most affected industries, indicating areas requiring attention and support."
   ]
  },
  {
   "cell_type": "markdown",
   "id": "bf645f4a",
   "metadata": {},
   "source": [
    "## EDA by Year"
   ]
  },
  {
   "cell_type": "code",
   "execution_count": 148,
   "id": "ab857837",
   "metadata": {},
   "outputs": [
    {
     "data": {
      "image/png": "[encoded data removed]",
      "text/plain": [
       "<Figure size 500x400 with 1 Axes>"
      ]
     },
     "metadata": {},
     "output_type": "display_data"
    }
   ],
   "source": [
    "yearly_layoff = df.groupby('Year')['Laid_Off'].sum()\n",
    "plt.style.use('seaborn-v0_8-pastel')\n",
    "plt.figure(figsize=(5, 4))\n",
    "yearly_layoff.plot(kind='bar',color = 'skyblue')\n",
    "plt.ylabel('Total Layoffs')\n",
    "plt.title('Layoffs around the World over the year')\n",
    "plt.show()"
   ]
  },
  {
   "cell_type": "code",
   "execution_count": 158,
   "id": "2fe456fd",
   "metadata": {},
   "outputs": [
    {
     "ename": "IndentationError",
     "evalue": "unexpected indent (95282414.py, line 9)",
     "output_type": "error",
     "traceback": [
      "\u001b[1;36m  Cell \u001b[1;32mIn[158], line 9\u001b[1;36m\u001b[0m\n\u001b[1;33m    plt.grid(axis='y', linestyle='--', alpha=0.7)\u001b[0m\n\u001b[1;37m    ^\u001b[0m\n\u001b[1;31mIndentationError\u001b[0m\u001b[1;31m:\u001b[0m unexpected indent\n"
     ]
    }
   ],
   "source": [
    "def plot_layoffs_by_industry(dataset, year):\n",
    "    layoffs_year = dataset[dataset['Year'] == year]\n",
    "    layoffs_by_industry = layoffs_year.groupby('Industry')['Laid_Off'].sum()\n",
    "    plt.figure(figsize=(12, 6))\n",
    "    layoffs_by_industry.sort_values(ascending=False).plot(kind='bar', color='darkcyan')\n",
    "    plt.title(f'Layoffs by Industry in {year}')\n",
    "    plt.xlabel('Industry')\n",
    "    plt.ylabel('Total Layoffs')\n",
    "     plt.grid(axis='y', linestyle='--', alpha=0.7)\n",
    "    plt.xticks(rotation=45, ha='right')\n",
    "    plt.tight_layout()\n",
    "    plt.show()"
   ]
  },
  {
   "cell_type": "code",
   "execution_count": 159,
   "id": "79be68d8",
   "metadata": {},
   "outputs": [
    {
     "data": {
      "image/png": "[encoded data removed]",
      "text/plain": [
       "<Figure size 1200x600 with 1 Axes>"
      ]
     },
     "metadata": {},
     "output_type": "display_data"
    }
   ],
   "source": [
    "plot_layoffs_by_industry(df,2020)"
   ]
  },
  {
   "cell_type": "code",
   "execution_count": 160,
   "id": "b6e8c02e",
   "metadata": {},
   "outputs": [
    {
     "data": {
      "image/png": "[encoded data removed]",
      "text/plain": [
       "<Figure size 1200x600 with 1 Axes>"
      ]
     },
     "metadata": {},
     "output_type": "display_data"
    }
   ],
   "source": [
    "plot_layoffs_by_industry(df,2021)"
   ]
  },
  {
   "cell_type": "code",
   "execution_count": 161,
   "id": "ef8b5d67",
   "metadata": {},
   "outputs": [
    {
     "data": {
      "image/png": "[encoded data removed]",
      "text/plain": [
       "<Figure size 1200x600 with 1 Axes>"
      ]
     },
     "metadata": {},
     "output_type": "display_data"
    }
   ],
   "source": [
    "plot_layoffs_by_industry(df,2022)"
   ]
  },
  {
   "cell_type": "code",
   "execution_count": 162,
   "id": "16761c5e",
   "metadata": {},
   "outputs": [
    {
     "data": {
      "image/png": "[encoded data removed]",
      "text/plain": [
       "<Figure size 1200x600 with 1 Axes>"
      ]
     },
     "metadata": {},
     "output_type": "display_data"
    }
   ],
   "source": [
    "plot_layoffs_by_industry(df,2023)"
   ]
  },
  {
   "cell_type": "markdown",
   "id": "694d5c1c",
   "metadata": {},
   "source": [
    "## EDA by Company"
   ]
  },
  {
   "cell_type": "code",
   "execution_count": 168,
   "id": "701e8cf2",
   "metadata": {},
   "outputs": [
    {
     "data": {
      "text/html": [
       "<div>\n",
       "<style scoped>\n",
       "    .dataframe tbody tr th:only-of-type {\n",
       "        vertical-align: middle;\n",
       "    }\n",
       "\n",
       "    .dataframe tbody tr th {\n",
       "        vertical-align: top;\n",
       "    }\n",
       "\n",
       "    .dataframe thead th {\n",
       "        text-align: right;\n",
       "    }\n",
       "</style>\n",
       "<table border=\"1\" class=\"dataframe\">\n",
       "  <thead>\n",
       "    <tr style=\"text-align: right;\">\n",
       "      <th></th>\n",
       "      <th>Company</th>\n",
       "      <th>Location_HQ</th>\n",
       "      <th>Country</th>\n",
       "      <th>Continent</th>\n",
       "      <th>Laid_Off</th>\n",
       "      <th>Date_layoffs</th>\n",
       "      <th>Percentage</th>\n",
       "      <th>Company_Size_before_Layoffs</th>\n",
       "      <th>Company_Size_after_layoffs</th>\n",
       "      <th>Industry</th>\n",
       "      <th>Stage</th>\n",
       "      <th>Money_Raised_in_$_mil</th>\n",
       "      <th>Year</th>\n",
       "      <th>lat</th>\n",
       "      <th>lng</th>\n",
       "      <th>Size_Change_Percentage</th>\n",
       "    </tr>\n",
       "  </thead>\n",
       "  <tbody>\n",
       "    <tr>\n",
       "      <th>0</th>\n",
       "      <td>ShareChat</td>\n",
       "      <td>Bengaluru</td>\n",
       "      <td>India</td>\n",
       "      <td>Asia</td>\n",
       "      <td>200</td>\n",
       "      <td>2023-12-20</td>\n",
       "      <td>15.0</td>\n",
       "      <td>1333</td>\n",
       "      <td>1133</td>\n",
       "      <td>Consumer</td>\n",
       "      <td>Series H</td>\n",
       "      <td>$1700</td>\n",
       "      <td>2023</td>\n",
       "      <td>12.97194</td>\n",
       "      <td>77.59369</td>\n",
       "      <td>-17.652251</td>\n",
       "    </tr>\n",
       "    <tr>\n",
       "      <th>1</th>\n",
       "      <td>InSightec</td>\n",
       "      <td>Haifa</td>\n",
       "      <td>Israel</td>\n",
       "      <td>Asia</td>\n",
       "      <td>100</td>\n",
       "      <td>2023-12-19</td>\n",
       "      <td>20.0</td>\n",
       "      <td>500</td>\n",
       "      <td>400</td>\n",
       "      <td>Healthcare</td>\n",
       "      <td>Unknown</td>\n",
       "      <td>$733</td>\n",
       "      <td>2023</td>\n",
       "      <td>32.81841</td>\n",
       "      <td>34.98850</td>\n",
       "      <td>-25.000000</td>\n",
       "    </tr>\n",
       "    <tr>\n",
       "      <th>2</th>\n",
       "      <td>Enphase Energy</td>\n",
       "      <td>San Francisco Bay Area</td>\n",
       "      <td>USA</td>\n",
       "      <td>North America</td>\n",
       "      <td>350</td>\n",
       "      <td>2023-12-18</td>\n",
       "      <td>10.0</td>\n",
       "      <td>3500</td>\n",
       "      <td>3150</td>\n",
       "      <td>Energy</td>\n",
       "      <td>Post-IPO</td>\n",
       "      <td>$116</td>\n",
       "      <td>2023</td>\n",
       "      <td>37.54827</td>\n",
       "      <td>-121.98857</td>\n",
       "      <td>-11.111111</td>\n",
       "    </tr>\n",
       "    <tr>\n",
       "      <th>3</th>\n",
       "      <td>Udaan</td>\n",
       "      <td>Bengaluru</td>\n",
       "      <td>India</td>\n",
       "      <td>Asia</td>\n",
       "      <td>100</td>\n",
       "      <td>2023-12-18</td>\n",
       "      <td>10.0</td>\n",
       "      <td>1000</td>\n",
       "      <td>900</td>\n",
       "      <td>Retail</td>\n",
       "      <td>Unknown</td>\n",
       "      <td>1500</td>\n",
       "      <td>2023</td>\n",
       "      <td>12.97194</td>\n",
       "      <td>77.59369</td>\n",
       "      <td>-11.111111</td>\n",
       "    </tr>\n",
       "    <tr>\n",
       "      <th>4</th>\n",
       "      <td>Cruise</td>\n",
       "      <td>San Francisco Bay Area</td>\n",
       "      <td>USA</td>\n",
       "      <td>North America</td>\n",
       "      <td>900</td>\n",
       "      <td>2023-12-14</td>\n",
       "      <td>24.0</td>\n",
       "      <td>3750</td>\n",
       "      <td>2850</td>\n",
       "      <td>Transportation</td>\n",
       "      <td>Acquired</td>\n",
       "      <td>$15000</td>\n",
       "      <td>2023</td>\n",
       "      <td>37.77493</td>\n",
       "      <td>-122.41942</td>\n",
       "      <td>-31.578947</td>\n",
       "    </tr>\n",
       "    <tr>\n",
       "      <th>...</th>\n",
       "      <td>...</td>\n",
       "      <td>...</td>\n",
       "      <td>...</td>\n",
       "      <td>...</td>\n",
       "      <td>...</td>\n",
       "      <td>...</td>\n",
       "      <td>...</td>\n",
       "      <td>...</td>\n",
       "      <td>...</td>\n",
       "      <td>...</td>\n",
       "      <td>...</td>\n",
       "      <td>...</td>\n",
       "      <td>...</td>\n",
       "      <td>...</td>\n",
       "      <td>...</td>\n",
       "      <td>...</td>\n",
       "    </tr>\n",
       "    <tr>\n",
       "      <th>1413</th>\n",
       "      <td>Pitch</td>\n",
       "      <td>Berlin</td>\n",
       "      <td>Germany</td>\n",
       "      <td>Europe</td>\n",
       "      <td>80</td>\n",
       "      <td>2024-08-01</td>\n",
       "      <td>67.0</td>\n",
       "      <td>119</td>\n",
       "      <td>39</td>\n",
       "      <td>Other</td>\n",
       "      <td>Series B</td>\n",
       "      <td>$138</td>\n",
       "      <td>2024</td>\n",
       "      <td>52.52437</td>\n",
       "      <td>13.41053</td>\n",
       "      <td>-205.128205</td>\n",
       "    </tr>\n",
       "    <tr>\n",
       "      <th>1414</th>\n",
       "      <td>BenchSci</td>\n",
       "      <td>Toronto</td>\n",
       "      <td>Canada</td>\n",
       "      <td>North America</td>\n",
       "      <td>70</td>\n",
       "      <td>2024-08-01</td>\n",
       "      <td>17.0</td>\n",
       "      <td>412</td>\n",
       "      <td>342</td>\n",
       "      <td>Healthcare</td>\n",
       "      <td>Series D</td>\n",
       "      <td>$164</td>\n",
       "      <td>2024</td>\n",
       "      <td>43.70643</td>\n",
       "      <td>-79.39864</td>\n",
       "      <td>-20.467836</td>\n",
       "    </tr>\n",
       "    <tr>\n",
       "      <th>1415</th>\n",
       "      <td>NanoString Technology</td>\n",
       "      <td>Seattle</td>\n",
       "      <td>USA</td>\n",
       "      <td>North America</td>\n",
       "      <td>50</td>\n",
       "      <td>2024-08-01</td>\n",
       "      <td>9.0</td>\n",
       "      <td>556</td>\n",
       "      <td>506</td>\n",
       "      <td>Healthcare</td>\n",
       "      <td>Post-IPO</td>\n",
       "      <td>$826</td>\n",
       "      <td>2024</td>\n",
       "      <td>47.60621</td>\n",
       "      <td>-122.33207</td>\n",
       "      <td>-9.881423</td>\n",
       "    </tr>\n",
       "    <tr>\n",
       "      <th>1416</th>\n",
       "      <td>Trigo</td>\n",
       "      <td>Tel Aviv</td>\n",
       "      <td>Israel</td>\n",
       "      <td>Asia</td>\n",
       "      <td>30</td>\n",
       "      <td>2024-04-01</td>\n",
       "      <td>15.0</td>\n",
       "      <td>200</td>\n",
       "      <td>170</td>\n",
       "      <td>Retail</td>\n",
       "      <td>Series C</td>\n",
       "      <td>$199</td>\n",
       "      <td>2024</td>\n",
       "      <td>32.08088</td>\n",
       "      <td>34.78057</td>\n",
       "      <td>-17.647059</td>\n",
       "    </tr>\n",
       "    <tr>\n",
       "      <th>1417</th>\n",
       "      <td>Frontdesk</td>\n",
       "      <td>Milwaukee</td>\n",
       "      <td>USA</td>\n",
       "      <td>North America</td>\n",
       "      <td>200</td>\n",
       "      <td>2024-02-01</td>\n",
       "      <td>100.0</td>\n",
       "      <td>200</td>\n",
       "      <td>0</td>\n",
       "      <td>Travel</td>\n",
       "      <td>Unknown</td>\n",
       "      <td>$26</td>\n",
       "      <td>2024</td>\n",
       "      <td>43.03890</td>\n",
       "      <td>-87.90647</td>\n",
       "      <td>-inf</td>\n",
       "    </tr>\n",
       "  </tbody>\n",
       "</table>\n",
       "<p>1418 rows × 16 columns</p>\n",
       "</div>"
      ],
      "text/plain": [
       "                    Company             Location_HQ  Country      Continent  \\\n",
       "0                 ShareChat               Bengaluru    India           Asia   \n",
       "1                 InSightec                   Haifa   Israel           Asia   \n",
       "2            Enphase Energy  San Francisco Bay Area      USA  North America   \n",
       "3                     Udaan               Bengaluru    India           Asia   \n",
       "4                    Cruise  San Francisco Bay Area      USA  North America   \n",
       "...                     ...                     ...      ...            ...   \n",
       "1413                  Pitch                  Berlin  Germany         Europe   \n",
       "1414               BenchSci                 Toronto   Canada  North America   \n",
       "1415  NanoString Technology                 Seattle      USA  North America   \n",
       "1416                  Trigo                Tel Aviv   Israel           Asia   \n",
       "1417              Frontdesk               Milwaukee      USA  North America   \n",
       "\n",
       "      Laid_Off Date_layoffs  Percentage  Company_Size_before_Layoffs  \\\n",
       "0          200   2023-12-20        15.0                         1333   \n",
       "1          100   2023-12-19        20.0                          500   \n",
       "2          350   2023-12-18        10.0                         3500   \n",
       "3          100   2023-12-18        10.0                         1000   \n",
       "4          900   2023-12-14        24.0                         3750   \n",
       "...        ...          ...         ...                          ...   \n",
       "1413        80   2024-08-01        67.0                          119   \n",
       "1414        70   2024-08-01        17.0                          412   \n",
       "1415        50   2024-08-01         9.0                          556   \n",
       "1416        30   2024-04-01        15.0                          200   \n",
       "1417       200   2024-02-01       100.0                          200   \n",
       "\n",
       "      Company_Size_after_layoffs        Industry     Stage  \\\n",
       "0                           1133        Consumer  Series H   \n",
       "1                            400      Healthcare   Unknown   \n",
       "2                           3150          Energy  Post-IPO   \n",
       "3                            900          Retail   Unknown   \n",
       "4                           2850  Transportation  Acquired   \n",
       "...                          ...             ...       ...   \n",
       "1413                          39           Other  Series B   \n",
       "1414                         342      Healthcare  Series D   \n",
       "1415                         506      Healthcare  Post-IPO   \n",
       "1416                         170          Retail  Series C   \n",
       "1417                           0          Travel   Unknown   \n",
       "\n",
       "     Money_Raised_in_$_mil  Year       lat        lng  Size_Change_Percentage  \n",
       "0                    $1700  2023  12.97194   77.59369              -17.652251  \n",
       "1                     $733  2023  32.81841   34.98850              -25.000000  \n",
       "2                     $116  2023  37.54827 -121.98857              -11.111111  \n",
       "3                     1500  2023  12.97194   77.59369              -11.111111  \n",
       "4                   $15000  2023  37.77493 -122.41942              -31.578947  \n",
       "...                    ...   ...       ...        ...                     ...  \n",
       "1413                  $138  2024  52.52437   13.41053             -205.128205  \n",
       "1414                  $164  2024  43.70643  -79.39864              -20.467836  \n",
       "1415                  $826  2024  47.60621 -122.33207               -9.881423  \n",
       "1416                  $199  2024  32.08088   34.78057              -17.647059  \n",
       "1417                   $26  2024  43.03890  -87.90647                    -inf  \n",
       "\n",
       "[1418 rows x 16 columns]"
      ]
     },
     "execution_count": 168,
     "metadata": {},
     "output_type": "execute_result"
    }
   ],
   "source": [
    "df['Size_Change_Percentage'] = ((df['Company_Size_after_layoffs']-df['Company_Size_before_Layoffs'])\n",
    "                              /df['Company_Size_after_layoffs']) * 100\n",
    "df"
   ]
  },
  {
   "cell_type": "code",
   "execution_count": 170,
   "id": "12b2cba0",
   "metadata": {},
   "outputs": [
    {
     "name": "stdout",
     "output_type": "stream",
     "text": [
      "Top 5 company with most layoffs\n",
      "Company\n",
      "Uber      5\n",
      "Blend     5\n",
      "Gopuff    5\n",
      "Swiggy    5\n",
      "Unity     5\n",
      "Name: count, dtype: int64\n"
     ]
    }
   ],
   "source": [
    "company_counts = df['Company'].value_counts()\n",
    "print(\"Top 5 company with most layoffs\")\n",
    "print(company_counts.head(5))"
   ]
  },
  {
   "cell_type": "code",
   "execution_count": 177,
   "id": "68a5a753",
   "metadata": {},
   "outputs": [],
   "source": [
    "company_data = df.groupby('Company').apply(lambda x:x.reset_index(drop=True))"
   ]
  },
  {
   "cell_type": "code",
   "execution_count": 172,
   "id": "8a93cb8a",
   "metadata": {},
   "outputs": [],
   "source": [
    "uber_data = company_data.loc['Uber']\n",
    "blend_data = company_data.loc['Blend']\n",
    "gopuff_data = company_data.loc['Gopuff']\n",
    "swiggy_data = company_data.loc['Swiggy']\n",
    "unity_data = company_data.loc['Unity']"
   ]
  },
  {
   "cell_type": "code",
   "execution_count": 188,
   "id": "8390135e",
   "metadata": {
    "scrolled": false
   },
   "outputs": [
    {
     "data": {
      "image/png": "[encoded data removed]",
      "text/plain": [
       "<Figure size 800x400 with 1 Axes>"
      ]
     },
     "metadata": {},
     "output_type": "display_data"
    },
    {
     "data": {
      "image/png": "[encoded data removed]",
      "text/plain": [
       "<Figure size 800x400 with 1 Axes>"
      ]
     },
     "metadata": {},
     "output_type": "display_data"
    },
    {
     "data": {
      "image/png": "[encoded data removed]",
      "text/plain": [
       "<Figure size 800x400 with 1 Axes>"
      ]
     },
     "metadata": {},
     "output_type": "display_data"
    },
    {
     "data": {
      "image/png": "[encoded data removed]",
      "text/plain": [
       "<Figure size 800x400 with 1 Axes>"
      ]
     },
     "metadata": {},
     "output_type": "display_data"
    },
    {
     "data": {
      "image/png": "[encoded data removed]",
      "text/plain": [
       "<Figure size 800x400 with 1 Axes>"
      ]
     },
     "metadata": {},
     "output_type": "display_data"
    }
   ],
   "source": [
    "def plot_layoffs_over_time(company_data, company_name):\n",
    "    plt.figure(figsize=(8, 4))\n",
    "    company_data.groupby('Year')['Laid_Off'].sum().plot(marker='o')\n",
    "    plt.title(f'Layoffs Over Time for {company_name}')\n",
    "    plt.xlabel('Year')\n",
    "    plt.ylabel('Total Layoffs')\n",
    "    plt.grid(True)\n",
    "    plt.show()\n",
    "\n",
    "plot_layoffs_over_time(uber_data, 'Uber')\n",
    "plot_layoffs_over_time(blend_data, 'Blend')\n",
    "plot_layoffs_over_time(gopuff_data, 'Gopuff')\n",
    "plot_layoffs_over_time(swiggy_data, 'Swiggy')\n",
    "plot_layoffs_over_time(unity_data, 'Unity')"
   ]
  }
 ],
 "metadata": {
  "kernelspec": {
   "display_name": "Python 3 (ipykernel)",
   "language": "python",
   "name": "python3"
  },
  "language_info": {
   "codemirror_mode": {
    "name": "ipython",
    "version": 3
   },
   "file_extension": ".py",
   "mimetype": "text/x-python",
   "name": "python",
   "nbconvert_exporter": "python",
   "pygments_lexer": "ipython3",
   "version": "3.11.5"
  }
 },
 "nbformat": 4,
 "nbformat_minor": 5
}
